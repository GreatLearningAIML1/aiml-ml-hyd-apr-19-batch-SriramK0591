{
 "cells": [
  {
   "cell_type": "markdown",
   "metadata": {
    "_cell_guid": "608e43e3-8699-4299-9d18-9e9a6a3dd9bf",
    "_uuid": "434ffd54c774edd4e8b851ab0a4b6675425e46da",
    "colab_type": "text",
    "id": "YZgSu3BRe6N0"
   },
   "source": [
    "# Siamese Neural Networks\n",
    "Recognize images of icebergs from images of ships. \n",
    "These images were taken from space with a Sentinel-4 satellite. The goal was to create the most accurate neural network to differentiate them. However, neural networks usually only work well with A LOT of data, and I constrained you guys to 1000 examples to train on. That seems like a lot, but a CONVENTIONAL neural network needs more data. However, we are going to make a special kind of neural network: *Siamese Network*. This special network is used for face recognition and few-shot learning(learning from few examples). Let's get started by importing the usual liraries:"
   ]
  },
  {
   "cell_type": "code",
   "execution_count": 0,
   "metadata": {
    "colab": {},
    "colab_type": "code",
    "id": "C2txyIoDs396"
   },
   "outputs": [],
   "source": [
    "# Importing the data file from the drive"
   ]
  },
  {
   "cell_type": "code",
   "execution_count": 1,
   "metadata": {
    "colab": {
     "base_uri": "https://localhost:8080/",
     "height": 125
    },
    "colab_type": "code",
    "id": "XXI8e6zqtA9I",
    "outputId": "7fb1e47c-2856-4f30-f0b0-a540e30c0652"
   },
   "outputs": [
    {
     "name": "stdout",
     "output_type": "stream",
     "text": [
      "Go to this URL in a browser: https://accounts.google.com/o/oauth2/auth?client_id=947318989803-6bn6qk8qdgf4n4g3pfee6491hc0brc4i.apps.googleusercontent.com&redirect_uri=urn%3aietf%3awg%3aoauth%3a2.0%3aoob&response_type=code&scope=email%20https%3a%2f%2fwww.googleapis.com%2fauth%2fdocs.test%20https%3a%2f%2fwww.googleapis.com%2fauth%2fdrive%20https%3a%2f%2fwww.googleapis.com%2fauth%2fdrive.photos.readonly%20https%3a%2f%2fwww.googleapis.com%2fauth%2fpeopleapi.readonly\n",
      "\n",
      "Enter your authorization code:\n",
      "··········\n",
      "Mounted at /content/drive\n"
     ]
    }
   ],
   "source": [
    "from google.colab import drive\n",
    "drive.mount('/content/drive')"
   ]
  },
  {
   "cell_type": "code",
   "execution_count": 2,
   "metadata": {
    "_cell_guid": "b1076dfc-b9ad-4769-8c92-a6c4dae69d19",
    "_uuid": "8f2839f25d086af736a60e9eeb907d3b93b6e0e5",
    "colab": {
     "base_uri": "https://localhost:8080/",
     "height": 81
    },
    "colab_type": "code",
    "id": "tl9rMg6Je6N5",
    "outputId": "2ad25926-7cff-45e6-f95f-cdba1e946a3e"
   },
   "outputs": [
    {
     "name": "stderr",
     "output_type": "stream",
     "text": [
      "Using TensorFlow backend.\n"
     ]
    },
    {
     "data": {
      "text/html": [
       "<p style=\"color: red;\">\n",
       "The default version of TensorFlow in Colab will soon switch to TensorFlow 2.x.<br>\n",
       "We recommend you <a href=\"https://www.tensorflow.org/guide/migrate\" target=\"_blank\">upgrade</a> now \n",
       "or ensure your notebook will continue to use TensorFlow 1.x via the <code>%tensorflow_version 1.x</code> magic:\n",
       "<a href=\"https://colab.research.google.com/notebooks/tensorflow_version.ipynb\" target=\"_blank\">more info</a>.</p>\n"
      ],
      "text/plain": [
       "<IPython.core.display.HTML object>"
      ]
     },
     "metadata": {
      "tags": []
     },
     "output_type": "display_data"
    }
   ],
   "source": [
    "# Importing the libraries for model building\n",
    "\n",
    "from keras.layers import Input, Conv2D, Lambda, merge, Dense, Flatten,MaxPooling2D,Activation, Dropout\n",
    "from keras.models import Model, Sequential\n",
    "from keras.regularizers import l2\n",
    "from keras import backend as K\n",
    "from keras.optimizers import Adam\n",
    "from skimage.io import imshow\n",
    "import matplotlib.pyplot as plt\n",
    "import numpy as np\n",
    "import pandas as pd\n",
    "import random"
   ]
  },
  {
   "cell_type": "markdown",
   "metadata": {
    "_cell_guid": "adbffb0a-1784-4595-b3f2-2ea930abc31f",
    "_uuid": "b9200b733a896e4b6f261122fe9134c00955cc91",
    "colab_type": "text",
    "id": "B9NyKR0be6OC"
   },
   "source": [
    "## Load the Data\n"
   ]
  },
  {
   "cell_type": "code",
   "execution_count": 3,
   "metadata": {
    "_cell_guid": "79c7e3d0-c299-4dcb-8224-4455121ee9b0",
    "_uuid": "d629ff2d2480ee46fbb7e2d37f6b5fab8052498a",
    "colab": {
     "base_uri": "https://localhost:8080/",
     "height": 35
    },
    "colab_type": "code",
    "id": "z8jK0X-7e6OF",
    "outputId": "1400a8e9-64b2-4bb5-bf06-cdeceddb0c5f"
   },
   "outputs": [
    {
     "name": "stdout",
     "output_type": "stream",
     "text": [
      "We have 3113 examples to work with\n"
     ]
    }
   ],
   "source": [
    "# Reading the data file from drive\n",
    "npz = np.load('/content/drive/My Drive/input_data.npz')\n",
    "X_train = npz['X_train']\n",
    "Y_train = npz['Y_train']\n",
    "\n",
    "print ('We have {} examples to work with'.format(Y_train.shape[0]-1000))"
   ]
  },
  {
   "cell_type": "code",
   "execution_count": 4,
   "metadata": {
    "colab": {
     "base_uri": "https://localhost:8080/",
     "height": 879
    },
    "colab_type": "code",
    "id": "vRx1Rsx65LCF",
    "outputId": "5bda5385-45bb-4fdc-ca31-6f1db804c3fc"
   },
   "outputs": [
    {
     "data": {
      "text/plain": [
       "array([[[ 0.00086008,  0.09222397,  0.04788272],\n",
       "        [ 0.01991889,  0.01245591,  0.01938728],\n",
       "        [-0.01993704, -0.03749469, -0.03224692],\n",
       "        ...,\n",
       "        [ 0.0615176 ,  0.02726596,  0.05412738],\n",
       "        [ 0.0374325 ,  0.01235585,  0.03076259],\n",
       "        [-0.0683182 ,  0.080256  , -0.00339319]],\n",
       "\n",
       "       [[-0.01993481, -0.03749195, -0.03224405],\n",
       "        [ 0.00085903, -0.12110983, -0.06158288],\n",
       "        [ 0.01058646, -0.05625321, -0.02195733],\n",
       "        ...,\n",
       "        [ 0.03743361, -0.14649886, -0.05074752],\n",
       "        [-0.0200146 ,  0.05496702,  0.01514603],\n",
       "        [-0.09692882,  0.11449031, -0.00449387]],\n",
       "\n",
       "       [[-0.01993481, -0.12110829, -0.0751489 ],\n",
       "        [ 0.01991889, -0.23896057, -0.10961844],\n",
       "        [ 0.05384463, -0.05625321,  0.00626621],\n",
       "        ...,\n",
       "        [ 0.01984136, -0.05635055, -0.01596897],\n",
       "        [ 0.00078029, -0.07640512, -0.03869556],\n",
       "        [-0.12963977,  0.01235445, -0.07824343]],\n",
       "\n",
       "       ...,\n",
       "\n",
       "       [[-0.03110309,  0.06796893,  0.01458289],\n",
       "        [-0.01995147,  0.06796752,  0.02185798],\n",
       "        [-0.06825501, -0.00328016, -0.04621568],\n",
       "        ...,\n",
       "        [-0.05526475,  0.15462899,  0.0432854 ],\n",
       "        [ 0.05375263,  0.08023907,  0.0762425 ],\n",
       "        [ 0.03741695,  0.04142598,  0.04566878]],\n",
       "\n",
       "       [[-0.09686345,  0.01243754, -0.05681609],\n",
       "        [ 0.00084348,  0.0124362 ,  0.00693153],\n",
       "        [-0.01995257,  0.02734349,  0.00101244],\n",
       "        ...,\n",
       "        [ 0.01049445,  0.04142736,  0.02810407],\n",
       "        [ 0.02878999,  0.05494724,  0.04697815],\n",
       "        [ 0.01049219, -0.1212311 , -0.05536   ]],\n",
       "\n",
       "       [[-0.03110309, -0.00327735, -0.02197469],\n",
       "        [ 0.02886876,  0.04152604,  0.04014291],\n",
       "        [ 0.01990229,  0.08033634,  0.05420696],\n",
       "        ...,\n",
       "        [ 0.0287911 , -0.01999084,  0.00852697],\n",
       "        [ 0.00076476,  0.04142598,  0.02175529],\n",
       "        [-0.00939739,  0.0272434 ,  0.00784774]]])"
      ]
     },
     "execution_count": 4,
     "metadata": {
      "tags": []
     },
     "output_type": "execute_result"
    }
   ],
   "source": [
    "X_train[0]"
   ]
  },
  {
   "cell_type": "code",
   "execution_count": 5,
   "metadata": {
    "colab": {
     "base_uri": "https://localhost:8080/",
     "height": 35
    },
    "colab_type": "code",
    "id": "Xx9XyPfCIOJ6",
    "outputId": "9258914c-9b9d-44f1-ebd5-618a55c6e8ad"
   },
   "outputs": [
    {
     "data": {
      "text/plain": [
       "0"
      ]
     },
     "execution_count": 5,
     "metadata": {
      "tags": []
     },
     "output_type": "execute_result"
    }
   ],
   "source": [
    "Y_train[0]"
   ]
  },
  {
   "cell_type": "code",
   "execution_count": 0,
   "metadata": {
    "colab": {},
    "colab_type": "code",
    "id": "C3KMwO3I2cDQ"
   },
   "outputs": [],
   "source": [
    "# Setting the image size\n",
    "img_width = 128\n",
    "img_height = 128"
   ]
  },
  {
   "cell_type": "markdown",
   "metadata": {
    "_cell_guid": "ed28bc84-1a8a-472f-98ae-9553fe6d1097",
    "_uuid": "b2e2306b8b16ae7f4f9b63249d1f2ff6e29559d3",
    "colab_type": "text",
    "id": "HczmKArGe6OO"
   },
   "source": [
    "## Check the data\n",
    "\n",
    "Load some of the images to observe how your data look like."
   ]
  },
  {
   "cell_type": "code",
   "execution_count": 8,
   "metadata": {
    "colab": {
     "base_uri": "https://localhost:8080/",
     "height": 297
    },
    "colab_type": "code",
    "id": "36zG84EAzQQJ",
    "outputId": "0e0d0964-0cd7-49ed-f6b9-0800bd95a18e"
   },
   "outputs": [
    {
     "data": {
      "image/png": "[encoded data removed]",
      "text/plain": [
       "<Figure size 432x288 with 2 Axes>"
      ]
     },
     "metadata": {
      "tags": []
     },
     "output_type": "display_data"
    }
   ],
   "source": [
    "# Load some of the images\n",
    "k = np.random.randint(len(X_train))\n",
    "imshow(np.squeeze(X_train[k,:,:,2]))#Looking at the combined channel\n",
    "plt.show()"
   ]
  },
  {
   "cell_type": "markdown",
   "metadata": {
    "colab_type": "text",
    "id": "S68aVbcUe6OW"
   },
   "source": [
    "# Creating the structure of Siamese Network"
   ]
  },
  {
   "cell_type": "markdown",
   "metadata": {
    "colab_type": "raw",
    "id": "MGVSOVi5e6OY"
   },
   "source": [
    "You just need to break it into some steps:\n",
    "1. 2 Inputs for each images\n",
    "2. Creating a network which both images will go through individually\n",
    "3. Couple the network to each input\n",
    "4. Calculate the L1 distance between them. Just (x1,y1)-(x2,y2)\n",
    "5. 1 Added layer that will say 1 if they are the same and 0 if they are different"
   ]
  },
  {
   "cell_type": "markdown",
   "metadata": {
    "colab_type": "text",
    "id": "1PGlv5iMe6OZ"
   },
   "source": [
    "# Create two Inputs for each image - left_input and right_input\n",
    "Hint - use Input Function in Keras and keep the shape to be 75,75,3"
   ]
  },
  {
   "cell_type": "code",
   "execution_count": 9,
   "metadata": {
    "colab": {
     "base_uri": "https://localhost:8080/",
     "height": 107
    },
    "colab_type": "code",
    "id": "lJVcF3jYe6Ob",
    "outputId": "d99dee42-fa51-4b13-de7b-657bb5656b18"
   },
   "outputs": [
    {
     "name": "stdout",
     "output_type": "stream",
     "text": [
      "WARNING:tensorflow:From /usr/local/lib/python3.6/dist-packages/keras/backend/tensorflow_backend.py:66: The name tf.get_default_graph is deprecated. Please use tf.compat.v1.get_default_graph instead.\n",
      "\n",
      "WARNING:tensorflow:From /usr/local/lib/python3.6/dist-packages/keras/backend/tensorflow_backend.py:541: The name tf.placeholder is deprecated. Please use tf.compat.v1.placeholder instead.\n",
      "\n"
     ]
    }
   ],
   "source": [
    "# Set the input\n",
    "left_input = Input((75,75,3))\n",
    "right_input = Input((75,75,3))"
   ]
  },
  {
   "cell_type": "markdown",
   "metadata": {
    "colab_type": "text",
    "id": "PH3Pek0te6Oh"
   },
   "source": [
    "# Create a base Network in which both images will go through individually.\n",
    "\n",
    "Hint - Use Sequential Model in Keras with convolution layers, Maxpooling Layers, Flatten Layer and Denser Layer with appropriate activation functions.\n",
    "Name the network as base_network"
   ]
  },
  {
   "cell_type": "code",
   "execution_count": 10,
   "metadata": {
    "colab": {
     "base_uri": "https://localhost:8080/",
     "height": 107
    },
    "colab_type": "code",
    "id": "nYPlTMCZe6Oq",
    "outputId": "87e4b3b6-644b-4fb2-f7d8-95c2b89fcb00"
   },
   "outputs": [
    {
     "name": "stdout",
     "output_type": "stream",
     "text": [
      "WARNING:tensorflow:From /usr/local/lib/python3.6/dist-packages/keras/backend/tensorflow_backend.py:4432: The name tf.random_uniform is deprecated. Please use tf.random.uniform instead.\n",
      "\n",
      "WARNING:tensorflow:From /usr/local/lib/python3.6/dist-packages/keras/backend/tensorflow_backend.py:4267: The name tf.nn.max_pool is deprecated. Please use tf.nn.max_pool2d instead.\n",
      "\n"
     ]
    }
   ],
   "source": [
    "# We have 2 inputs, 1 for each picture\n",
    "left_input = Input((75,75,3))\n",
    "right_input = Input((75,75,3))\n",
    "\n",
    "# We will use 2 instances of 1 network for this task\n",
    "convnet = Sequential([\n",
    "    Conv2D(5,3, input_shape=(75,75,3)),\n",
    "    Activation('relu'),\n",
    "    MaxPooling2D(),\n",
    "    Conv2D(5,3),\n",
    "    Activation('relu'),\n",
    "    MaxPooling2D(),\n",
    "    Conv2D(7,2),\n",
    "    Activation('relu'),\n",
    "    MaxPooling2D(),\n",
    "    Conv2D(7,2),\n",
    "    Activation('relu'),\n",
    "    Flatten(),\n",
    "    Dense(18),\n",
    "    Activation('sigmoid')\n",
    "])\n"
   ]
  },
  {
   "cell_type": "markdown",
   "metadata": {
    "colab_type": "text",
    "id": "aXOe7XO9e6Ov"
   },
   "source": [
    "# Process the left and right inputs to the same Base Network(base_network)"
   ]
  },
  {
   "cell_type": "code",
   "execution_count": 0,
   "metadata": {
    "colab": {},
    "colab_type": "code",
    "id": "PnQ9h1ZTe6Ox"
   },
   "outputs": [],
   "source": [
    "# Connect each 'leg' of the network to each input\n",
    "# Remember, they have the same weights\n",
    "encoded_l = convnet(left_input)\n",
    "encoded_r = convnet(right_input)"
   ]
  },
  {
   "cell_type": "markdown",
   "metadata": {
    "colab_type": "text",
    "id": "6NRFQoawe6O-"
   },
   "source": [
    "# Get the L1 Distance layer between the 2 processed encodings (processed_a and processed_b)\n",
    "Hint - You can use Lambda function for this."
   ]
  },
  {
   "cell_type": "code",
   "execution_count": 0,
   "metadata": {
    "colab": {},
    "colab_type": "code",
    "id": "67mMCZYBe6PA"
   },
   "outputs": [],
   "source": [
    "# Getting the L1 Distance between the 2 encodings\n",
    "L1_layer = Lambda(lambda tensor:K.abs(tensor[0] - tensor[1]))\n",
    "\n",
    "# Add the distance function to the network\n",
    "L1_distance = L1_layer([encoded_l, encoded_r])"
   ]
  },
  {
   "cell_type": "markdown",
   "metadata": {
    "colab_type": "text",
    "id": "VaSeH2-0e6PL"
   },
   "source": [
    "# Add the prediction layer in the end and create the Siamese Network using Model function."
   ]
  },
  {
   "cell_type": "code",
   "execution_count": 0,
   "metadata": {
    "colab": {},
    "colab_type": "code",
    "id": "xfILiYrXe6PM"
   },
   "outputs": [],
   "source": [
    "# Prediction and siamese layer\n",
    "prediction = Dense(1,activation='sigmoid')(L1_distance)\n",
    "siamese_net = Model(inputs=[left_input,right_input],outputs=prediction)\n"
   ]
  },
  {
   "cell_type": "markdown",
   "metadata": {
    "colab_type": "text",
    "id": "EW9n3CESe6PQ"
   },
   "source": [
    "# Define the Optimizer Adam and Compile the Siamese Model."
   ]
  },
  {
   "cell_type": "code",
   "execution_count": 14,
   "metadata": {
    "colab": {
     "base_uri": "https://localhost:8080/",
     "height": 160
    },
    "colab_type": "code",
    "id": "RqF_R56Ie6PT",
    "outputId": "48106ed6-fee1-4c62-dab6-7f8a7050559d"
   },
   "outputs": [
    {
     "name": "stdout",
     "output_type": "stream",
     "text": [
      "WARNING:tensorflow:From /usr/local/lib/python3.6/dist-packages/keras/optimizers.py:793: The name tf.train.Optimizer is deprecated. Please use tf.compat.v1.train.Optimizer instead.\n",
      "\n",
      "WARNING:tensorflow:From /usr/local/lib/python3.6/dist-packages/keras/backend/tensorflow_backend.py:3657: The name tf.log is deprecated. Please use tf.math.log instead.\n",
      "\n",
      "WARNING:tensorflow:From /usr/local/lib/python3.6/dist-packages/tensorflow_core/python/ops/nn_impl.py:183: where (from tensorflow.python.ops.array_ops) is deprecated and will be removed in a future version.\n",
      "Instructions for updating:\n",
      "Use tf.where in 2.0, which has the same broadcast rule as np.where\n"
     ]
    }
   ],
   "source": [
    "# Optimzer and Compilation\n",
    "optimizer = Adam(0.001, decay=2.5e-4)\n",
    "\n",
    "#//TODO: get layerwise learning rates and momentum annealing scheme described in paperworking\n",
    "siamese_net.compile(loss=\"binary_crossentropy\",optimizer=optimizer,metrics=['accuracy'])"
   ]
  },
  {
   "cell_type": "markdown",
   "metadata": {
    "_cell_guid": "dbba8e74-6b9c-4c84-96ed-55137265280b",
    "_uuid": "28e3843cae1a192bb14eb04cc1fe1705ef69f405",
    "colab_type": "text",
    "id": "-Ec0mEPBe6PZ"
   },
   "source": [
    "# Show the Summary of your Siamese Network"
   ]
  },
  {
   "cell_type": "code",
   "execution_count": 15,
   "metadata": {
    "colab": {
     "base_uri": "https://localhost:8080/",
     "height": 369
    },
    "colab_type": "code",
    "id": "vyM9GP-le6Pb",
    "outputId": "50096f9b-80cd-4a95-b780-c47e97e0aa51"
   },
   "outputs": [
    {
     "name": "stdout",
     "output_type": "stream",
     "text": [
      "Model: \"model_1\"\n",
      "__________________________________________________________________________________________________\n",
      "Layer (type)                    Output Shape         Param #     Connected to                     \n",
      "==================================================================================================\n",
      "input_3 (InputLayer)            (None, 75, 75, 3)    0                                            \n",
      "__________________________________________________________________________________________________\n",
      "input_4 (InputLayer)            (None, 75, 75, 3)    0                                            \n",
      "__________________________________________________________________________________________________\n",
      "sequential_1 (Sequential)       (None, 18)           6912        input_3[0][0]                    \n",
      "                                                                 input_4[0][0]                    \n",
      "__________________________________________________________________________________________________\n",
      "lambda_1 (Lambda)               (None, 18)           0           sequential_1[1][0]               \n",
      "                                                                 sequential_1[2][0]               \n",
      "__________________________________________________________________________________________________\n",
      "dense_2 (Dense)                 (None, 1)            19          lambda_1[0][0]                   \n",
      "==================================================================================================\n",
      "Total params: 6,931\n",
      "Trainable params: 6,931\n",
      "Non-trainable params: 0\n",
      "__________________________________________________________________________________________________\n"
     ]
    }
   ],
   "source": [
    "siamese_net.summary()"
   ]
  },
  {
   "cell_type": "markdown",
   "metadata": {
    "colab_type": "text",
    "id": "wKUen8uwe6Ph"
   },
   "source": [
    "# Creating the Pair of Images to train on"
   ]
  },
  {
   "cell_type": "markdown",
   "metadata": {
    "_cell_guid": "7080234f-01f4-4df1-88a7-459746335c50",
    "_uuid": "4553890c8130dc76076252a09290497a4afc27e6",
    "colab_type": "text",
    "id": "Rdlxbp58e6Pk"
   },
   "source": [
    "It's not time to train though. We still have to create pairs of images to train on. There will be Positive(the same class) or Negative(different classes) for outputs. Let's construct this dataset. It is recommended that there are equal amounts positive and negative."
   ]
  },
  {
   "cell_type": "code",
   "execution_count": 0,
   "metadata": {
    "_cell_guid": "32cb30db-144d-4f93-af05-6cb9a697c084",
    "_uuid": "09a3e9d488acd34e99912c5f01474029e77637f5",
    "colab": {},
    "colab_type": "code",
    "id": "FqjX_qtEe6Po"
   },
   "outputs": [],
   "source": [
    "# Pair of Images for training\n",
    "\n",
    "image_list = np.split(X_train[:1000],1000)\n",
    "label_list = np.split(Y_train[:1000],1000)\n",
    "\n",
    "left_input = []\n",
    "right_input = []\n",
    "targets = []\n",
    "\n",
    "#Number of pairs per image\n",
    "pairs = 5\n",
    "#Let's create the new dataset to train on\n",
    "for i in range(len(label_list)):\n",
    "    for _ in range(pairs):\n",
    "        compare_to = i\n",
    "        while compare_to == i: #Make sure it's not comparing to itself\n",
    "            compare_to = random.randint(0,999)\n",
    "        left_input.append(image_list[i])\n",
    "        right_input.append(image_list[compare_to])\n",
    "        if label_list[i] == label_list[compare_to]:# They are the same\n",
    "            targets.append(1.)\n",
    "        else:# Not the same\n",
    "            targets.append(0.)\n",
    "            \n",
    "left_input = np.squeeze(np.array(left_input))\n",
    "right_input = np.squeeze(np.array(right_input))\n",
    "targets = np.squeeze(np.array(targets))\n",
    "\n",
    "iceimage = X_train[101]\n",
    "test_left = []\n",
    "test_right = []\n",
    "test_targets = []\n",
    "\n",
    "for i in range(Y_train.shape[0]-1000):\n",
    "    test_left.append(iceimage)\n",
    "    test_right.append(X_train[i+1000])\n",
    "    test_targets.append(Y_train[i+1000])\n",
    "\n",
    "test_left = np.squeeze(np.array(test_left))\n",
    "test_right = np.squeeze(np.array(test_right))\n",
    "test_targets = np.squeeze(np.array(test_targets))"
   ]
  },
  {
   "cell_type": "markdown",
   "metadata": {
    "colab_type": "text",
    "id": "Xy5eijSle6Pu"
   },
   "source": [
    "Now we have a lot more examples.\n",
    "Now we have pairs x 1000 examples to train the network on. \n",
    "Each side will have an input of an image and the output will be one if they are the same and zero if not."
   ]
  },
  {
   "cell_type": "markdown",
   "metadata": {
    "colab_type": "text",
    "id": "nIThKpe0e6Pw"
   },
   "source": [
    "# Train the Siamese train on left and right input image pairs created and validate it by test pairs."
   ]
  },
  {
   "cell_type": "code",
   "execution_count": 17,
   "metadata": {
    "colab": {
     "base_uri": "https://localhost:8080/",
     "height": 1000
    },
    "colab_type": "code",
    "id": "F7-CS0q6e6Px",
    "outputId": "0abc1b42-164a-4664-a8b9-3e3fc3973fe7"
   },
   "outputs": [
    {
     "name": "stdout",
     "output_type": "stream",
     "text": [
      "WARNING:tensorflow:From /usr/local/lib/python3.6/dist-packages/keras/backend/tensorflow_backend.py:1033: The name tf.assign_add is deprecated. Please use tf.compat.v1.assign_add instead.\n",
      "\n",
      "WARNING:tensorflow:From /usr/local/lib/python3.6/dist-packages/keras/backend/tensorflow_backend.py:1020: The name tf.assign is deprecated. Please use tf.compat.v1.assign instead.\n",
      "\n",
      "WARNING:tensorflow:From /usr/local/lib/python3.6/dist-packages/keras/backend/tensorflow_backend.py:3005: The name tf.Session is deprecated. Please use tf.compat.v1.Session instead.\n",
      "\n",
      "Train on 5000 samples, validate on 3113 samples\n",
      "Epoch 1/30\n",
      "WARNING:tensorflow:From /usr/local/lib/python3.6/dist-packages/keras/backend/tensorflow_backend.py:190: The name tf.get_default_session is deprecated. Please use tf.compat.v1.get_default_session instead.\n",
      "\n",
      "WARNING:tensorflow:From /usr/local/lib/python3.6/dist-packages/keras/backend/tensorflow_backend.py:197: The name tf.ConfigProto is deprecated. Please use tf.compat.v1.ConfigProto instead.\n",
      "\n",
      "WARNING:tensorflow:From /usr/local/lib/python3.6/dist-packages/keras/backend/tensorflow_backend.py:207: The name tf.global_variables is deprecated. Please use tf.compat.v1.global_variables instead.\n",
      "\n",
      "WARNING:tensorflow:From /usr/local/lib/python3.6/dist-packages/keras/backend/tensorflow_backend.py:216: The name tf.is_variable_initialized is deprecated. Please use tf.compat.v1.is_variable_initialized instead.\n",
      "\n",
      "WARNING:tensorflow:From /usr/local/lib/python3.6/dist-packages/keras/backend/tensorflow_backend.py:223: The name tf.variables_initializer is deprecated. Please use tf.compat.v1.variables_initializer instead.\n",
      "\n",
      "5000/5000 [==============================] - 40s 8ms/step - loss: 0.6889 - acc: 0.5580 - val_loss: 0.7131 - val_acc: 0.3893\n",
      "Epoch 2/30\n",
      "5000/5000 [==============================] - 39s 8ms/step - loss: 0.6624 - acc: 0.6108 - val_loss: 0.6385 - val_acc: 0.6881\n",
      "Epoch 3/30\n",
      "5000/5000 [==============================] - 39s 8ms/step - loss: 0.5870 - acc: 0.7052 - val_loss: 0.6359 - val_acc: 0.6968\n",
      "Epoch 4/30\n",
      "5000/5000 [==============================] - 39s 8ms/step - loss: 0.5051 - acc: 0.7700 - val_loss: 0.7201 - val_acc: 0.5622\n",
      "Epoch 5/30\n",
      "5000/5000 [==============================] - 39s 8ms/step - loss: 0.4694 - acc: 0.7950 - val_loss: 0.6588 - val_acc: 0.6495\n",
      "Epoch 6/30\n",
      "5000/5000 [==============================] - 39s 8ms/step - loss: 0.4391 - acc: 0.8120 - val_loss: 0.7582 - val_acc: 0.4828\n",
      "Epoch 7/30\n",
      "5000/5000 [==============================] - 39s 8ms/step - loss: 0.4152 - acc: 0.8186 - val_loss: 0.7392 - val_acc: 0.5490\n",
      "Epoch 8/30\n",
      "5000/5000 [==============================] - 39s 8ms/step - loss: 0.3952 - acc: 0.8316 - val_loss: 0.6765 - val_acc: 0.6553\n",
      "Epoch 9/30\n",
      "5000/5000 [==============================] - 39s 8ms/step - loss: 0.3752 - acc: 0.8386 - val_loss: 0.4959 - val_acc: 0.8037\n",
      "Epoch 10/30\n",
      "5000/5000 [==============================] - 39s 8ms/step - loss: 0.3601 - acc: 0.8470 - val_loss: 1.2897 - val_acc: 0.2599\n",
      "Epoch 11/30\n",
      "5000/5000 [==============================] - 39s 8ms/step - loss: 0.3433 - acc: 0.8580 - val_loss: 0.5644 - val_acc: 0.7835\n",
      "Epoch 12/30\n",
      "5000/5000 [==============================] - 39s 8ms/step - loss: 0.3260 - acc: 0.8672 - val_loss: 0.5701 - val_acc: 0.7694\n",
      "Epoch 13/30\n",
      "5000/5000 [==============================] - 39s 8ms/step - loss: 0.3119 - acc: 0.8744 - val_loss: 0.6845 - val_acc: 0.6489\n",
      "Epoch 14/30\n",
      "5000/5000 [==============================] - 39s 8ms/step - loss: 0.2977 - acc: 0.8816 - val_loss: 0.6017 - val_acc: 0.7237\n",
      "Epoch 15/30\n",
      "5000/5000 [==============================] - 39s 8ms/step - loss: 0.2876 - acc: 0.8888 - val_loss: 0.5619 - val_acc: 0.7883\n",
      "Epoch 16/30\n",
      "5000/5000 [==============================] - 39s 8ms/step - loss: 0.2759 - acc: 0.8960 - val_loss: 0.5420 - val_acc: 0.7963\n",
      "Epoch 17/30\n",
      "5000/5000 [==============================] - 40s 8ms/step - loss: 0.2649 - acc: 0.9008 - val_loss: 0.6286 - val_acc: 0.7029\n",
      "Epoch 18/30\n",
      "5000/5000 [==============================] - 39s 8ms/step - loss: 0.2576 - acc: 0.9052 - val_loss: 0.5185 - val_acc: 0.7999\n",
      "Epoch 19/30\n",
      "5000/5000 [==============================] - 39s 8ms/step - loss: 0.2476 - acc: 0.9102 - val_loss: 0.5633 - val_acc: 0.7963\n",
      "Epoch 20/30\n",
      "5000/5000 [==============================] - 39s 8ms/step - loss: 0.2402 - acc: 0.9106 - val_loss: 0.5174 - val_acc: 0.8018\n",
      "Epoch 21/30\n",
      "5000/5000 [==============================] - 39s 8ms/step - loss: 0.2305 - acc: 0.9142 - val_loss: 0.5289 - val_acc: 0.7983\n",
      "Epoch 22/30\n",
      "5000/5000 [==============================] - 40s 8ms/step - loss: 0.2250 - acc: 0.9190 - val_loss: 0.5450 - val_acc: 0.7938\n",
      "Epoch 23/30\n",
      "5000/5000 [==============================] - 40s 8ms/step - loss: 0.2197 - acc: 0.9192 - val_loss: 0.5432 - val_acc: 0.7954\n",
      "Epoch 24/30\n",
      "5000/5000 [==============================] - 39s 8ms/step - loss: 0.2119 - acc: 0.9246 - val_loss: 0.5752 - val_acc: 0.7873\n",
      "Epoch 25/30\n",
      "5000/5000 [==============================] - 40s 8ms/step - loss: 0.2058 - acc: 0.9266 - val_loss: 0.5336 - val_acc: 0.7896\n",
      "Epoch 26/30\n",
      "5000/5000 [==============================] - 40s 8ms/step - loss: 0.2000 - acc: 0.9304 - val_loss: 0.5671 - val_acc: 0.7989\n",
      "Epoch 27/30\n",
      "5000/5000 [==============================] - 39s 8ms/step - loss: 0.1956 - acc: 0.9292 - val_loss: 0.5400 - val_acc: 0.8015\n",
      "Epoch 28/30\n",
      "5000/5000 [==============================] - 39s 8ms/step - loss: 0.1907 - acc: 0.9334 - val_loss: 0.5569 - val_acc: 0.7967\n",
      "Epoch 29/30\n",
      "5000/5000 [==============================] - 39s 8ms/step - loss: 0.1875 - acc: 0.9346 - val_loss: 0.5456 - val_acc: 0.7957\n",
      "Epoch 30/30\n",
      "5000/5000 [==============================] - 39s 8ms/step - loss: 0.1815 - acc: 0.9372 - val_loss: 0.5422 - val_acc: 0.7973\n"
     ]
    },
    {
     "data": {
      "text/plain": [
       "<keras.callbacks.History at 0x7f8a45608dd8>"
      ]
     },
     "execution_count": 17,
     "metadata": {
      "tags": []
     },
     "output_type": "execute_result"
    }
   ],
   "source": [
    "# Train the siamese net\n",
    "\n",
    "siamese_net.fit([left_input,right_input], targets,\n",
    "          batch_size=16,\n",
    "          epochs=30,\n",
    "          verbose=1,\n",
    "          validation_data=([test_left,test_right],test_targets))"
   ]
  }
 ],
 "metadata": {
  "colab": {
   "collapsed_sections": [],
   "name": "R10_External.ipynb",
   "provenance": [],
   "toc_visible": true
  },
  "kernelspec": {
   "display_name": "Python 3",
   "language": "python",
   "name": "python3"
  },
  "language_info": {
   "codemirror_mode": {
    "name": "ipython",
    "version": 3
   },
   "file_extension": ".py",
   "mimetype": "text/x-python",
   "name": "python",
   "nbconvert_exporter": "python",
   "pygments_lexer": "ipython3",
   "version": "3.7.3"
  }
 },
 "nbformat": 4,
 "nbformat_minor": 1
}
