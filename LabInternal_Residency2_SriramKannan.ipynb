{
 "cells": [
  {
   "cell_type": "markdown",
   "metadata": {
    "colab_type": "text",
    "id": "IEJOH3pMy_EG"
   },
   "source": [
    "\n",
    "\n",
    "## Lab 2"
   ]
  },
  {
   "cell_type": "markdown",
   "metadata": {
    "colab_type": "text",
    "id": "yRG2Rb6By_EK"
   },
   "source": [
    "Welcome to the second lab of the AIML!\n",
    "In addition to implementing code, there will be questions that you must answer which relate to the lab and your implementation. Each question you will answer is preceded by a **'Question X'** header. Carefully read each question and provide you answer or code in the following textboxes with **'Answer:'** header. Your lab submission will be evaluated based on your answers to each of the questions and the implementation you provide."
   ]
  },
  {
   "cell_type": "markdown",
   "metadata": {
    "colab_type": "text",
    "id": "Wv9-kA4vy_EN"
   },
   "source": [
    "# Every question is of 1 mark."
   ]
  },
  {
   "cell_type": "markdown",
   "metadata": {
    "colab_type": "text",
    "id": "c7F5I7f9y_EQ"
   },
   "source": [
    "## Overview"
   ]
  },
  {
   "cell_type": "code",
   "execution_count": 0,
   "metadata": {
    "colab": {},
    "colab_type": "code",
    "id": "DbanWtFwzc-A"
   },
   "outputs": [],
   "source": []
  },
  {
   "cell_type": "markdown",
   "metadata": {
    "colab_type": "text",
    "id": "s3TbncQ0y_ES"
   },
   "source": [
    "This module covers,\n",
    "\n",
    "1) One sample and Two sample t-tests\n",
    "\n",
    "2) ANOVA\n",
    "\n",
    "3) Type I and Type II errors\n",
    "\n",
    "4) Probabilty Distributions\n",
    "\n",
    "5) Linear Regression"
   ]
  },
  {
   "cell_type": "markdown",
   "metadata": {
    "colab_type": "text",
    "id": "i8UE0UE6y_EV"
   },
   "source": [
    "## Hypothesis Testing"
   ]
  },
  {
   "cell_type": "markdown",
   "metadata": {
    "colab_type": "text",
    "id": "kImA4Gk-y_EW"
   },
   "source": [
    "The purpose of the test is to tell if there is any significant difference between two data sets.\n",
    "\n"
   ]
  },
  {
   "cell_type": "markdown",
   "metadata": {
    "colab_type": "text",
    "id": "yItvHo3By_EZ"
   },
   "source": [
    "## Question 1 \n",
    "\n",
    "*A student is trying to decide between two GPUs. He want to use the GPU for his research to run Deep learning algorithms, so the only thing he is concerned with is speed.*\n",
    "\n",
    "*He picks a Deep Learning algorithm on a large data set and runs it on both GPUs 15 times, timing each run in hours. Results are given in the below lists GPU1 and GPU2.*"
   ]
  },
  {
   "cell_type": "markdown",
   "metadata": {
    "colab_type": "text",
    "id": "nnQ2Ftdgy_Ea"
   },
   "source": [
    "Hint: You can import ttest function from scipy to perform t tests "
   ]
  },
  {
   "cell_type": "markdown",
   "metadata": {
    "colab_type": "text",
    "id": "JbQ05nufy_Ec"
   },
   "source": [
    "Given,\n",
    "\n",
    "Null Hypothesis : There is no significant difference between data sets\n",
    "\n",
    "Alternate Hypothesis : There is a significant difference\n",
    "\n",
    "*Do two-sample testing and check whether to reject Null Hypothesis or not.*\n",
    "\n",
    "#### Answer:"
   ]
  },
  {
   "cell_type": "code",
   "execution_count": 216,
   "metadata": {
    "colab": {},
    "colab_type": "code",
    "id": "Zg9r4020y_Ee"
   },
   "outputs": [
    {
     "name": "stdout",
     "output_type": "stream",
     "text": [
      "[-2.62762951] [0.01379428]\n",
      "P value is [0.01379428]\n"
     ]
    }
   ],
   "source": [
    "import pandas as pd\n",
    "import numpy as np\n",
    "from scipy.stats import ttest_1samp, ttest_ind, mannwhitneyu, levene, shapiro, f_oneway;\n",
    "\n",
    "\n",
    "\n",
    "GPU1 = pd.DataFrame([11,9,10,11,10,12,9,11,12,9,11,12,9,10,9])\n",
    "GPU2 = pd.DataFrame([11,13,10,13,12,9,11,12,12,11,12,12,10,11,13])\n",
    "\n",
    "## Answer for two-sample testing between GPU1 and GPU2\n",
    "\n",
    "t_statistic, p_value = ttest_ind(GPU1, GPU2)\n",
    "print(t_statistic, p_value)\n",
    "print (\"P value is\", p_value);\n",
    "\n",
    "## P is 0.013 and this is less than 0.05 (5% significance level), therefore Null hypothesis to be rejected."
   ]
  },
  {
   "cell_type": "markdown",
   "metadata": {
    "colab_type": "text",
    "id": "VqYtQt37y_El"
   },
   "source": [
    "[## Question 2 \n",
    "](https://)\n",
    "He is trying a third GPU which is GPU3."
   ]
  },
  {
   "cell_type": "code",
   "execution_count": 217,
   "metadata": {
    "colab": {},
    "colab_type": "code",
    "id": "JM3dI6Kpy_Eo"
   },
   "outputs": [],
   "source": [
    "GPU3 = pd.DataFrame([9,10,9,11,10,13,12,9,12,12,13,12,13,10,11])\n",
    "\n",
    "#Assumption: Both the datasets (GPU1 & GPU 3) are random, independent, parametric & normally distributed"
   ]
  },
  {
   "cell_type": "markdown",
   "metadata": {
    "colab_type": "text",
    "id": "xccR5TB4y_Ev"
   },
   "source": [
    "*Do two-sample testing and check whether there is significant differene between speeds of two GPUs GPU1 and GPU3.*\n",
    "\n",
    "#### Answer:"
   ]
  },
  {
   "cell_type": "code",
   "execution_count": 218,
   "metadata": {
    "colab": {},
    "colab_type": "code",
    "id": "uQUx17MFy_Ex"
   },
   "outputs": [
    {
     "name": "stdout",
     "output_type": "stream",
     "text": [
      "[-1.49889438] [0.14509211]\n",
      "P value is [0.14509211]\n"
     ]
    }
   ],
   "source": [
    "## Answer for two-sample testing between GPU1 and GPU3\n",
    "\n",
    "t_statistic, p_value = ttest_ind(GPU1, GPU3)\n",
    "print(t_statistic, p_value)\n",
    "print (\"P value is\", p_value);\n",
    "\n",
    "## P is 0.145 and this is greater than 0.05 (5% significance level), therefore Null hypothesis is not to be rejected."
   ]
  },
  {
   "cell_type": "markdown",
   "metadata": {
    "colab_type": "text",
    "id": "1ntmaD07y_E2"
   },
   "source": [
    "### ANOVA"
   ]
  },
  {
   "cell_type": "markdown",
   "metadata": {
    "colab_type": "text",
    "id": "G0pj7K4jy_E4"
   },
   "source": [
    "## Question 3 \n",
    "\n",
    "If you need to compare more than two data sets at a time, an ANOVA is your best bet. \n",
    "\n",
    "*The results from three experiments with overlapping 95% confidence intervals are given below, and we want to confirm that the results for all three experiments are not significantly different.*\n",
    "\n",
    "#Assumption: All the 3 datasets (e1,e2 & e3) are random, independent, parametric & normally distributed\n",
    "But before conducting ANOVA, test equality of variances (using Levene's test) is satisfied or not. If not, then mention that we cannot depend on the result of ANOVA"
   ]
  },
  {
   "cell_type": "code",
   "execution_count": 71,
   "metadata": {
    "colab": {},
    "colab_type": "code",
    "id": "AKzdGmBWy_E7"
   },
   "outputs": [],
   "source": [
    "import pandas as pd\n",
    "e1 = pd.DataFrame([1.595440,1.419730,0.000000,0.000000])\n",
    "e2 = pd.DataFrame([1.433800,2.079700,0.892139,2.384740])\n",
    "e3 = pd.DataFrame([0.036930,0.938018,0.995956,1.006970])"
   ]
  },
  {
   "cell_type": "markdown",
   "metadata": {
    "colab_type": "text",
    "id": "iZ5OpNTZy_FH"
   },
   "source": [
    "Hint - You can use stats.levene function and stats.f_oneway function."
   ]
  },
  {
   "cell_type": "markdown",
   "metadata": {
    "colab_type": "text",
    "id": "LS7fFigZy_FM"
   },
   "source": [
    "#### Answer:"
   ]
  },
  {
   "cell_type": "code",
   "execution_count": 132,
   "metadata": {
    "colab": {},
    "colab_type": "code",
    "id": "JeTpweFsy_FP"
   },
   "outputs": [
    {
     "name": "stdout",
     "output_type": "stream",
     "text": [
      "LeveneResult(statistic=2.6741725711150446, pvalue=0.12259792666001798) \n",
      "\n",
      "ANOVA\n",
      "=============\n",
      "F value: 2.51357622845924\n",
      "P value: 0.13574644501798466 \n",
      "\n"
     ]
    }
   ],
   "source": [
    "## Test for Levene\n",
    "print (levene(e1[0].values,e2[0].values,e3[0].values), '\\n');\n",
    "\n",
    "## Since P is greater than 0.05, we can conclude that the variances of three samples are equal (which is our Null Hypothesis)\n",
    "## Hence, we can go for ANOVA Test\n",
    "\n",
    "## ANOVA test\n",
    "\n",
    "f, p = f_oneway(e1[0].values,e2[0].values,e3[0].values)\n",
    "print ('ANOVA')\n",
    "print ('=============') \n",
    "print ('F value:', f)\n",
    "print ('P value:', p, '\\n')\n",
    "\n",
    "# Since p is greater than 0.05, we can conclude that all three samples are not significantly different"
   ]
  },
  {
   "cell_type": "markdown",
   "metadata": {
    "colab_type": "text",
    "id": "-QkO7Zdky_FY"
   },
   "source": [
    "## Question 4 \n",
    "\n",
    "*In one or two sentences explain about **TypeI** and **TypeII** errors.*\n",
    "\n",
    "#### Answer:"
   ]
  },
  {
   "cell_type": "code",
   "execution_count": 0,
   "metadata": {
    "colab": {},
    "colab_type": "code",
    "id": "7GMrA5hiy_Fc"
   },
   "outputs": [],
   "source": [
    "## Type1 Error\n",
    "\n",
    "##  Rejecting Null Hypothesis (Ho) even though Ho is True"
   ]
  },
  {
   "cell_type": "code",
   "execution_count": 0,
   "metadata": {
    "colab": {},
    "colab_type": "code",
    "id": "6x2cZFpyy_Fi"
   },
   "outputs": [],
   "source": [
    "## Type2 Error\n",
    "\n",
    "##  Do not rejecting Null Hypothesis (Ho) even though Ho is False"
   ]
  },
  {
   "cell_type": "markdown",
   "metadata": {
    "colab_type": "text",
    "id": "HjY6P__6y_Fm"
   },
   "source": [
    "# Question 5\n",
    "You are a manager of a chinese restaurant. You want to determine whether the waiting time to place an order has changed in the past month from its previous population mean value of 4.5 minutes. \n",
    "State the null and alternative hypothesis."
   ]
  },
  {
   "cell_type": "code",
   "execution_count": 0,
   "metadata": {
    "colab": {},
    "colab_type": "code",
    "id": "lV5GQ6T8y_Fp"
   },
   "outputs": [],
   "source": [
    "## Null Hypothesis\n",
    "\n",
    "## Sample_mean (U)= 4.5"
   ]
  },
  {
   "cell_type": "code",
   "execution_count": 0,
   "metadata": {
    "colab": {},
    "colab_type": "code",
    "id": "rKmKCB_Fy_Fu"
   },
   "outputs": [],
   "source": [
    "## Alternate Hypothesis\n",
    "\n",
    "## Sample_mean (U) not equal to (#) 4.5"
   ]
  },
  {
   "cell_type": "code",
   "execution_count": 0,
   "metadata": {
    "colab": {},
    "colab_type": "code",
    "id": "Hh8GpzDny_Fy"
   },
   "outputs": [],
   "source": []
  },
  {
   "cell_type": "markdown",
   "metadata": {
    "colab_type": "text",
    "id": "gflwdh5qy_F4"
   },
   "source": [
    "# Question 6 \n",
    "Get the binomial distribution with n = 10, p = .7 and k = [0, 1, 2, 3, 4, 5, 6, 7]\n",
    "\n",
    "Hint - Use stats.binom.pmf() function for this.\n"
   ]
  },
  {
   "cell_type": "code",
   "execution_count": 67,
   "metadata": {
    "colab": {},
    "colab_type": "code",
    "id": "u43Z8ZM-y_F5"
   },
   "outputs": [
    {
     "name": "stdout",
     "output_type": "stream",
     "text": [
      "[5.90490000e-06 1.37781000e-04 1.44670050e-03 9.00169200e-03\n",
      " 3.67569090e-02 1.02919345e-01 2.00120949e-01 2.66827932e-01]\n"
     ]
    }
   ],
   "source": [
    "## Initialising the variables\n",
    "\n",
    "n=10;\n",
    "p=.7;\n",
    "k=[0,1,2,3,4,5,6,7];\n",
    "\n",
    "Binomial_distribution = stats.binom.pmf(k,n,p);\n",
    "print (Binomial_distribution);"
   ]
  },
  {
   "cell_type": "markdown",
   "metadata": {
    "colab_type": "text",
    "id": "D5whZ6A5y_F9"
   },
   "source": [
    "# Question 7 \n",
    "Plot the distribution created in the above question."
   ]
  },
  {
   "cell_type": "code",
   "execution_count": 212,
   "metadata": {
    "colab": {},
    "colab_type": "code",
    "id": "emY4gr4Jy_F_"
   },
   "outputs": [
    {
     "data": {
      "image/png": "[encoded data removed]",
      "text/plain": [
       "<Figure size 432x288 with 1 Axes>"
      ]
     },
     "metadata": {
      "needs_background": "light"
     },
     "output_type": "display_data"
    }
   ],
   "source": [
    "import matplotlib.pyplot as plt\n",
    "plt.plot(Binomial_distribution, label='Binomial Distribution')\n",
    "plt.legend(loc='best')\n",
    "plt.show()"
   ]
  },
  {
   "cell_type": "markdown",
   "metadata": {
    "colab_type": "text",
    "id": "wMKyZctHy_GE"
   },
   "source": [
    "# Linear Regression\n"
   ]
  },
  {
   "cell_type": "markdown",
   "metadata": {
    "colab_type": "text",
    "id": "LDJS2-Pgy_GH"
   },
   "source": [
    "# Simple Linear Regression"
   ]
  },
  {
   "cell_type": "markdown",
   "metadata": {
    "colab_type": "text",
    "id": "1aXhBleCy_GM"
   },
   "source": [
    "Here we will try to see that if we can make a regression model to predict one column of a dataset by the use of other coloumn.\n",
    "\n",
    "## Dataset\n",
    "\n",
    "Population of U.S. Cities\n",
    "\n",
    "### Description\n",
    "The bigcity data frame has 49 rows and 2 columns.\n",
    "\n",
    "The measurements are the population (in 1000's) of 49 U.S. cities in 1920 and 1930. The 49 cities are a random sample taken from the 196 largest cities in 1920.\n",
    "\n",
    "### Format\n",
    "This data frame contains the following columns:\n",
    "\n",
    "`u`\n",
    "The 1920 population.\n",
    "\n",
    "`x`\n",
    "The 1930 population.\n",
    "\n",
    "There is one unnamed column also in this dataset. Please remove and ignore that coloumn.\n",
    "\n",
    "Source\n",
    "\n",
    "The data were obtained from\n",
    "\n",
    "Cochran, W.G. (1977) Sampling Techniques. Third edition. John Wiley\n",
    "\n",
    "References\n",
    "\n",
    "Davison, A.C. and Hinkley, D.V. (1997) Bootstrap Methods and Their Application. Cambridge University Press."
   ]
  },
  {
   "cell_type": "markdown",
   "metadata": {
    "colab_type": "text",
    "id": "jR6a2l7my_GO"
   },
   "source": [
    "# Question 8 \n",
    "Read the dataset given in file named 'bigcity.csv'."
   ]
  },
  {
   "cell_type": "code",
   "execution_count": 90,
   "metadata": {
    "colab": {},
    "colab_type": "code",
    "id": "2syrwIZey_GQ"
   },
   "outputs": [
    {
     "name": "stdout",
     "output_type": "stream",
     "text": [
      "    Unnamed: 0    u    x\n",
      "0            1  138  143\n",
      "1            2   93  104\n",
      "2            3   61   69\n",
      "3            4  179  260\n",
      "4            5   48   75\n",
      "5            6   37   63\n",
      "6            7   29   50\n",
      "7            8   23   48\n",
      "8            9   30  111\n",
      "9           10    2   50\n",
      "10          11   38   52\n",
      "11          12   46   53\n",
      "12          13   71   79\n",
      "13          14   25   57\n",
      "14          15  298  317\n",
      "15          16   74   93\n",
      "16          17   50   58\n",
      "17          18   76   80\n",
      "18          19  381  464\n",
      "19          20  387  459\n",
      "20          21   78  106\n",
      "21          22   60   57\n",
      "22          23  507  634\n",
      "23          24   50   64\n",
      "24          25   77   89\n",
      "25          26   64   77\n",
      "26          27   40   60\n",
      "27          28  136  139\n",
      "28          29  243  291\n",
      "29          30  256  288\n",
      "30          31   94   85\n",
      "31          32   36   46\n",
      "32          33   45   53\n",
      "33          34   67   67\n",
      "34          35  120  115\n",
      "35          36  172  183\n",
      "36          37   66   86\n",
      "37          38   46   65\n",
      "38          39  121  113\n",
      "39          40   44   58\n",
      "40          41   64   63\n",
      "41          42   56  142\n",
      "42          43   40   64\n",
      "43          44  116  130\n",
      "44          45   87  105\n",
      "45          46   43   61\n",
      "46          47   43   50\n",
      "47          48  161  232\n",
      "48          49   36   54\n"
     ]
    }
   ],
   "source": [
    "bigcity= pd.read_csv(r'C:\\Users\\sriram.kannan\\Desktop\\PGP-AIML\\Residency2\\Residency2_Lab\\bigcity.csv', sep=',');\n",
    "print (bigcity);"
   ]
  },
  {
   "cell_type": "markdown",
   "metadata": {
    "colab_type": "text",
    "id": "z2xteyYby_GT"
   },
   "source": [
    "# Question 9 - Transform the dataset \n",
    "Find the number of rows in given dataset and separate the input(u column)  and target variables(x column) into X and Y.\n",
    "\n",
    "Remove the unnamed coloumn.\n",
    "\n",
    "Hint: You can shape function to get the size of the dataframe\n"
   ]
  },
  {
   "cell_type": "code",
   "execution_count": 116,
   "metadata": {
    "colab": {},
    "colab_type": "code",
    "id": "7KJUYwDMy_GX"
   },
   "outputs": [
    {
     "name": "stdout",
     "output_type": "stream",
     "text": [
      "(49, 3)\n",
      "0     138\n",
      "1      93\n",
      "2      61\n",
      "3     179\n",
      "4      48\n",
      "5      37\n",
      "6      29\n",
      "7      23\n",
      "8      30\n",
      "9       2\n",
      "10     38\n",
      "11     46\n",
      "12     71\n",
      "13     25\n",
      "14    298\n",
      "15     74\n",
      "16     50\n",
      "17     76\n",
      "18    381\n",
      "19    387\n",
      "20     78\n",
      "21     60\n",
      "22    507\n",
      "23     50\n",
      "24     77\n",
      "25     64\n",
      "26     40\n",
      "27    136\n",
      "28    243\n",
      "29    256\n",
      "30     94\n",
      "31     36\n",
      "32     45\n",
      "33     67\n",
      "34    120\n",
      "35    172\n",
      "36     66\n",
      "37     46\n",
      "38    121\n",
      "39     44\n",
      "40     64\n",
      "41     56\n",
      "42     40\n",
      "43    116\n",
      "44     87\n",
      "45     43\n",
      "46     43\n",
      "47    161\n",
      "48     36\n",
      "Name: u, dtype: int64\n",
      "0     143\n",
      "1     104\n",
      "2      69\n",
      "3     260\n",
      "4      75\n",
      "5      63\n",
      "6      50\n",
      "7      48\n",
      "8     111\n",
      "9      50\n",
      "10     52\n",
      "11     53\n",
      "12     79\n",
      "13     57\n",
      "14    317\n",
      "15     93\n",
      "16     58\n",
      "17     80\n",
      "18    464\n",
      "19    459\n",
      "20    106\n",
      "21     57\n",
      "22    634\n",
      "23     64\n",
      "24     89\n",
      "25     77\n",
      "26     60\n",
      "27    139\n",
      "28    291\n",
      "29    288\n",
      "30     85\n",
      "31     46\n",
      "32     53\n",
      "33     67\n",
      "34    115\n",
      "35    183\n",
      "36     86\n",
      "37     65\n",
      "38    113\n",
      "39     58\n",
      "40     63\n",
      "41    142\n",
      "42     64\n",
      "43    130\n",
      "44    105\n",
      "45     61\n",
      "46     50\n",
      "47    232\n",
      "48     54\n",
      "Name: x, dtype: int64\n",
      "      u    x\n",
      "0   138  143\n",
      "1    93  104\n",
      "2    61   69\n",
      "3   179  260\n",
      "4    48   75\n",
      "5    37   63\n",
      "6    29   50\n",
      "7    23   48\n",
      "8    30  111\n",
      "9     2   50\n",
      "10   38   52\n",
      "11   46   53\n",
      "12   71   79\n",
      "13   25   57\n",
      "14  298  317\n",
      "15   74   93\n",
      "16   50   58\n",
      "17   76   80\n",
      "18  381  464\n",
      "19  387  459\n",
      "20   78  106\n",
      "21   60   57\n",
      "22  507  634\n",
      "23   50   64\n",
      "24   77   89\n",
      "25   64   77\n",
      "26   40   60\n",
      "27  136  139\n",
      "28  243  291\n",
      "29  256  288\n",
      "30   94   85\n",
      "31   36   46\n",
      "32   45   53\n",
      "33   67   67\n",
      "34  120  115\n",
      "35  172  183\n",
      "36   66   86\n",
      "37   46   65\n",
      "38  121  113\n",
      "39   44   58\n",
      "40   64   63\n",
      "41   56  142\n",
      "42   40   64\n",
      "43  116  130\n",
      "44   87  105\n",
      "45   43   61\n",
      "46   43   50\n",
      "47  161  232\n",
      "48   36   54\n"
     ]
    }
   ],
   "source": [
    "## No of Rows & Columns\n",
    "\n",
    "print (bigcity.shape);  \n",
    "\n",
    "## Separating columns \"u\" and \"x\" into X and Y\n",
    "\n",
    "X = bigcity['u']; print(X);\n",
    "Y = bigcity['x']; print(Y);\n",
    "\n",
    "## Removing the Unnamed column\n",
    "\n",
    "bigcity=bigcity.loc[:, ~bigcity.columns.str.match('Unnamed')];\n",
    "print (bigcity);\n",
    "\n",
    "\n",
    "\n"
   ]
  },
  {
   "cell_type": "markdown",
   "metadata": {
    "colab_type": "text",
    "id": "TyuhJDK5y_Gc"
   },
   "source": [
    "## Question 10 - Check the dataset for any missing values and also print out the correlation matrix "
   ]
  },
  {
   "cell_type": "code",
   "execution_count": 118,
   "metadata": {
    "colab": {},
    "colab_type": "code",
    "id": "hpzkRe81y_Gd"
   },
   "outputs": [
    {
     "name": "stdout",
     "output_type": "stream",
     "text": [
      "        u      x\n",
      "0   False  False\n",
      "1   False  False\n",
      "2   False  False\n",
      "3   False  False\n",
      "4   False  False\n",
      "5   False  False\n",
      "6   False  False\n",
      "7   False  False\n",
      "8   False  False\n",
      "9   False  False\n",
      "10  False  False\n",
      "11  False  False\n",
      "12  False  False\n",
      "13  False  False\n",
      "14  False  False\n",
      "15  False  False\n",
      "16  False  False\n",
      "17  False  False\n",
      "18  False  False\n",
      "19  False  False\n",
      "20  False  False\n",
      "21  False  False\n",
      "22  False  False\n",
      "23  False  False\n",
      "24  False  False\n",
      "25  False  False\n",
      "26  False  False\n",
      "27  False  False\n",
      "28  False  False\n",
      "29  False  False\n",
      "30  False  False\n",
      "31  False  False\n",
      "32  False  False\n",
      "33  False  False\n",
      "34  False  False\n",
      "35  False  False\n",
      "36  False  False\n",
      "37  False  False\n",
      "38  False  False\n",
      "39  False  False\n",
      "40  False  False\n",
      "41  False  False\n",
      "42  False  False\n",
      "43  False  False\n",
      "44  False  False\n",
      "45  False  False\n",
      "46  False  False\n",
      "47  False  False\n",
      "48  False  False\n"
     ]
    }
   ],
   "source": [
    "## Checking for missing values in the dataset\n",
    "\n",
    "print (bigcity.isna());\n",
    "\n",
    "## There's no missing value as the boolean result is False for all"
   ]
  },
  {
   "cell_type": "markdown",
   "metadata": {
    "colab_type": "text",
    "id": "fMy6zL1Ky_Gh"
   },
   "source": [
    "You can use .isna() and .corr() functions to check NA's and correlation in the dataframe respectively"
   ]
  },
  {
   "cell_type": "code",
   "execution_count": 133,
   "metadata": {
    "colab": {},
    "colab_type": "code",
    "id": "hpJlVUupy_Gi"
   },
   "outputs": [
    {
     "name": "stdout",
     "output_type": "stream",
     "text": [
      "0.981741951099581\n"
     ]
    }
   ],
   "source": [
    "## Finding the Correlation Matrix\n",
    "\n",
    "Correlation = bigcity['u'].corr(bigcity['x']);\n",
    "\n",
    "print (Correlation);"
   ]
  },
  {
   "cell_type": "code",
   "execution_count": 0,
   "metadata": {
    "colab": {},
    "colab_type": "code",
    "id": "tqMEX2t-y_Gn"
   },
   "outputs": [],
   "source": [
    "## Since the value is closer to 1, there's a high correlation between X and Y."
   ]
  },
  {
   "cell_type": "markdown",
   "metadata": {
    "colab_type": "text",
    "id": "O05wXnYhy_Gs"
   },
   "source": [
    "### The high correlation betwwen u and x indicates that the variable u is a good predictor of variable x"
   ]
  },
  {
   "cell_type": "markdown",
   "metadata": {
    "colab_type": "text",
    "id": "NWu2j-iFy_Gt"
   },
   "source": [
    "# Question 11 - Split data into train, test sets \n",
    "Divide the data into training and test sets with 80-20 split using scikit-learn. Print the shapes of training and test feature sets.*"
   ]
  },
  {
   "cell_type": "markdown",
   "metadata": {
    "colab_type": "text",
    "id": "2xGeBU-Fy_Gv"
   },
   "source": [
    "Check: train_test_split function"
   ]
  },
  {
   "cell_type": "code",
   "execution_count": 159,
   "metadata": {
    "colab": {},
    "colab_type": "code",
    "id": "uKcfywXEy_Gw"
   },
   "outputs": [
    {
     "name": "stdout",
     "output_type": "stream",
     "text": [
      "(39, 1) (10, 1)\n",
      "(39, 1) (10, 1)\n"
     ]
    }
   ],
   "source": [
    "## Splitting the bigcity data into train, test sets\n",
    "\n",
    "from sklearn.model_selection import train_test_split\n",
    "\n",
    "## Reshaping X and Y for Linear Regression\n",
    "\n",
    "X = X.reshape(-1,1);\n",
    "Y = Y.reshape(-1,1);\n",
    "\n",
    "\n",
    "## Splitting into 80:20 ratio for training and test\n",
    "X_train, X_test, Y_train, Y_test = train_test_split(X, Y, test_size=0.2, random_state=0)\n",
    "\n",
    "## Size of Training & Test sets of one sample X\n",
    "print (X_train.shape, X_test.shape);\n",
    "\n",
    "## Size of Training & Test sets of another sample Y\n",
    "print (Y_train.shape, Y_test.shape);"
   ]
  },
  {
   "cell_type": "markdown",
   "metadata": {
    "colab_type": "text",
    "id": "tejO-bEhy_Gz"
   },
   "source": [
    "# Question 12 - Find coefficients & intercept\n",
    "Estimate the coefficients b0 and b1 using scikit-learn."
   ]
  },
  {
   "cell_type": "code",
   "execution_count": 164,
   "metadata": {
    "colab": {},
    "colab_type": "code",
    "id": "hvex1b0ly_G2"
   },
   "outputs": [
    {
     "name": "stdout",
     "output_type": "stream",
     "text": [
      "[9.57115437]\n",
      "[[1.16465537]]\n"
     ]
    }
   ],
   "source": [
    "## Coefficients and Intercept for Training\n",
    "\n",
    "## Training the algorithm to get the Coefficients and Intercept\n",
    "from sklearn.linear_model import LinearRegression\n",
    "\n",
    "lr = LinearRegression()  \n",
    "lr.fit(X_train, Y_train) \n",
    "\n",
    "## Bo - Y Intercept\n",
    "print (lr.intercept_);\n",
    "\n",
    "## B1 - Coefficient\n",
    "print (lr.coef_);"
   ]
  },
  {
   "cell_type": "code",
   "execution_count": 0,
   "metadata": {
    "colab": {},
    "colab_type": "code",
    "id": "ZPcpfUIyy_G8"
   },
   "outputs": [],
   "source": []
  },
  {
   "cell_type": "markdown",
   "metadata": {
    "colab_type": "text",
    "id": "p0TWJsooy_HA"
   },
   "source": [
    "Check: coef_ and intercept_ functions can help you get coefficients & intercept"
   ]
  },
  {
   "cell_type": "markdown",
   "metadata": {
    "colab_type": "text",
    "id": "LhtToZvAy_HB"
   },
   "source": [
    "# Question 13 - Linear Relationship between feature and target \n",
    "Plot the line with b1 and b0 as slope and y-intercept.\n",
    "\n",
    "Hint - y = mx + c, plot y"
   ]
  },
  {
   "cell_type": "code",
   "execution_count": 213,
   "metadata": {
    "colab": {},
    "colab_type": "code",
    "id": "-9CG10Evy_HD"
   },
   "outputs": [
    {
     "data": {
      "image/png": "[encoded data removed]",
      "text/plain": [
       "<Figure size 432x288 with 1 Axes>"
      ]
     },
     "metadata": {
      "needs_background": "light"
     },
     "output_type": "display_data"
    }
   ],
   "source": [
    "# line equation\n",
    "line = lr.coef_ * X_train + lr.intercept_ ;\n",
    "\n",
    "# plotting a line\n",
    "##print (lr.coef_.item())\n",
    "plt.plot(X_train, line, label='y={:.2f}x+{:.2f}'.format(lr.coef_.item(),lr.intercept_.item()));\n",
    "plt.legend(loc='best')\n",
    "plt.show()"
   ]
  },
  {
   "cell_type": "code",
   "execution_count": 0,
   "metadata": {
    "colab": {},
    "colab_type": "code",
    "id": "eZxObh5Wy_HG"
   },
   "outputs": [],
   "source": []
  },
  {
   "cell_type": "markdown",
   "metadata": {
    "colab_type": "text",
    "id": "ji-pKQMty_HJ"
   },
   "source": [
    "# Question 14 - Evaluation of model with scikit-learn \n",
    "Validate the model with Root Mean Squares error and R^2 score using scikit-learn. RMSE and R2 for test data and prediction"
   ]
  },
  {
   "cell_type": "markdown",
   "metadata": {
    "colab_type": "text",
    "id": "CwT09ICUy_HK"
   },
   "source": [
    "Hint: You can import mean_squared_error function & r2 (R square) from sklearn.metrics. Performing root operation over mean square error over mean square error gives you root mean square error"
   ]
  },
  {
   "cell_type": "code",
   "execution_count": 215,
   "metadata": {
    "colab": {},
    "colab_type": "code",
    "id": "OCJnyT_py_HL"
   },
   "outputs": [
    {
     "name": "stdout",
     "output_type": "stream",
     "text": [
      "18.71070389373071\n",
      "0.92536721776934\n"
     ]
    }
   ],
   "source": [
    "## Predicting Y for the test dataset\n",
    "\n",
    "Y_pred= lr.predict(X_test);\n",
    "\n",
    "## Validating the Model with Root Mean Squares and R^2 score\n",
    "\n",
    "from sklearn.metrics import mean_squared_error, r2_score\n",
    "from math import sqrt\n",
    "\n",
    "## Mean Squared Error\n",
    "mse = mean_squared_error(Y_test, Y_pred)\n",
    "\n",
    "## Root Mean Squared Error\n",
    "rmse = sqrt(mse);\n",
    "print ( rmse);\n",
    "\n",
    "## R^2 Score\n",
    "\n",
    "Rscore= r2_score(Y_test, Y_pred);\n",
    "print (Rscore);\n",
    "\n"
   ]
  },
  {
   "cell_type": "code",
   "execution_count": null,
   "metadata": {
    "colab": {},
    "colab_type": "code",
    "id": "zFiUy7z2y_HT"
   },
   "outputs": [],
   "source": []
  },
  {
   "cell_type": "markdown",
   "metadata": {
    "colab_type": "text",
    "id": "1YTkh9Fgy_HX"
   },
   "source": [
    "## Question 15 - Calculate the accuracy of the model for both training and test data set "
   ]
  },
  {
   "cell_type": "markdown",
   "metadata": {
    "colab_type": "text",
    "id": "4ZUDAcG-y_HX"
   },
   "source": [
    "### Hint: .score() function "
   ]
  },
  {
   "cell_type": "code",
   "execution_count": 199,
   "metadata": {
    "colab": {},
    "colab_type": "code",
    "id": "HVOq2k33y_HY"
   },
   "outputs": [
    {
     "name": "stdout",
     "output_type": "stream",
     "text": [
      "0.8609496638413379\n",
      "0.9184241386370827\n"
     ]
    }
   ],
   "source": [
    "## Accuracy for test and predicted\n",
    "\n",
    "## predict for training\n",
    "Y_predt= lr.predict(X_train);\n",
    "\n",
    "## Accuracy for training set\n",
    "Accuracy_training= lr.score(Y_train, Y_predt);\n",
    "print (Accuracy_training);\n",
    "\n",
    "## Accuracy for test set\n",
    "\n",
    "Accuracy_test =lr.score(Y_test,Y_pred);\n",
    "print(Accuracy_test);"
   ]
  },
  {
   "cell_type": "code",
   "execution_count": 0,
   "metadata": {
    "colab": {},
    "colab_type": "code",
    "id": "xEUJL7-Qy_Hc"
   },
   "outputs": [],
   "source": []
  },
  {
   "cell_type": "code",
   "execution_count": 0,
   "metadata": {
    "colab": {},
    "colab_type": "code",
    "id": "YRGRNbqay_Hi"
   },
   "outputs": [],
   "source": []
  }
 ],
 "metadata": {
  "colab": {
   "name": "InternalLab_Residency2_Hypothesis_Testing_and_Linear_Regression-updated.ipynb",
   "provenance": [],
   "version": "0.3.2"
  },
  "kernelspec": {
   "display_name": "Python 3",
   "language": "python",
   "name": "python3"
  },
  "language_info": {
   "codemirror_mode": {
    "name": "ipython",
    "version": 3
   },
   "file_extension": ".py",
   "mimetype": "text/x-python",
   "name": "python",
   "nbconvert_exporter": "python",
   "pygments_lexer": "ipython3",
   "version": "3.7.3"
  }
 },
 "nbformat": 4,
 "nbformat_minor": 1
}
