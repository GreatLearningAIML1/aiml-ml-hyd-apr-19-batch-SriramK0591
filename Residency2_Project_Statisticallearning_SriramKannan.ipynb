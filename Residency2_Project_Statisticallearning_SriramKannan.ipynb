{
 "cells": [
  {
   "cell_type": "code",
   "execution_count": 21,
   "metadata": {},
   "outputs": [],
   "source": [
    "## Importing the libraries to be used later in the project\n",
    "\n",
    "import pandas as pd\n",
    "import numpy as np\n",
    "import matplotlib.pyplot as plt\n",
    "from scipy.stats import ttest_1samp, wilcoxon\n",
    "from statsmodels.stats.power import ttest_power\n",
    "from scipy import stats\n",
    "\n"
   ]
  },
  {
   "cell_type": "code",
   "execution_count": 22,
   "metadata": {},
   "outputs": [
    {
     "name": "stdout",
     "output_type": "stream",
     "text": [
      "    SALESPERSON  Old Scheme (in thousands)  New Scheme (in thousands)\n",
      "0             1                         57                         62\n",
      "1             2                        103                        122\n",
      "2             3                         59                         54\n",
      "3             4                         75                         82\n",
      "4             5                         84                         84\n",
      "5             6                         73                         86\n",
      "6             7                         35                         32\n",
      "7             8                        110                        104\n",
      "8             9                         44                         38\n",
      "9            10                         82                        107\n",
      "10           11                         67                         84\n",
      "11           12                         64                         85\n",
      "12           13                         78                         99\n",
      "13           14                         53                         39\n",
      "14           15                         41                         34\n",
      "15           16                         39                         58\n",
      "16           17                         80                         73\n",
      "17           18                         87                         53\n",
      "18           19                         73                         66\n",
      "19           20                         65                         78\n",
      "20           21                         28                         41\n",
      "21           22                         62                         71\n",
      "22           23                         49                         38\n",
      "23           24                         84                         95\n",
      "24           25                         63                         81\n",
      "25           26                         77                         58\n",
      "26           27                         67                         75\n",
      "27           28                        101                         94\n",
      "28           29                         91                        100\n",
      "29           30                         50                         68\n"
     ]
    }
   ],
   "source": [
    "## Read the dataset for computation\n",
    "\n",
    "titan= pd.read_csv(r'C:\\Users\\sriram.kannan\\Desktop\\PGP-AIML\\Residency2\\Residency2_Lab\\titan.csv', sep=',');\n",
    "print (titan);"
   ]
  },
  {
   "cell_type": "code",
   "execution_count": 23,
   "metadata": {},
   "outputs": [
    {
     "name": "stdout",
     "output_type": "stream",
     "text": [
      " Mean of Old scheme is 68.03333333333333\n",
      " Mean of New scheme is 72.03333333333333\n"
     ]
    }
   ],
   "source": [
    "## Question 1\n",
    "## Mean of Old Scheme and New Scheme\n",
    "\n",
    "mean_old= titan['Old Scheme (in thousands)'].mean();\n",
    "print (\" Mean of Old scheme is\", mean_old);\n",
    "\n",
    "mean_new=titan['New Scheme (in thousands)'].mean();\n",
    "print (\" Mean of New scheme is\", mean_new);"
   ]
  },
  {
   "cell_type": "code",
   "execution_count": 24,
   "metadata": {},
   "outputs": [],
   "source": [
    "## Question 2\n",
    "## Use the five percent significance test over the data to determine the p value \n",
    "## to check new scheme has significantly raised outputs?\n",
    "\n"
   ]
  },
  {
   "cell_type": "code",
   "execution_count": 33,
   "metadata": {},
   "outputs": [
    {
     "name": "stdout",
     "output_type": "stream",
     "text": [
      "(0.9396390914916992, 0.08894602954387665)\n",
      "T stats is 1.5559143823544377\n",
      "P value is 0.13057553961337662\n"
     ]
    },
    {
     "data": {
      "image/png": "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\n",
      "text/plain": [
       "<Figure size 432x288 with 1 Axes>"
      ]
     },
     "metadata": {
      "needs_background": "light"
     },
     "output_type": "display_data"
    }
   ],
   "source": [
    "## Since the given sample contains two related variables ( Old scheme and New scheme), we go for a paired t test to determine whether\n",
    "## the new scheme is statistically significant from the old scheme\n",
    "\n",
    "## In other words, we have to determine whether the mean is different between the Old and New scheme for the confidence level taken\n",
    "\n",
    "\n",
    "## Null hypothesis: u=0 (there is no difference between the two)\n",
    "## Alternate hypothesis: u#0 (there is a difference between the two)\n",
    "\n",
    "\n",
    "## Before proceeding with the Paired T test result, let's validate the assumptions for the test.\n",
    "## ASSUMPTIONS\n",
    "## Variables are related and approximately normally distributed\n",
    "## No significant outliers anywhere\n",
    "\n",
    "## Outliers:\n",
    "\n",
    "titan[['New Scheme (in thousands)', 'Old Scheme (in thousands)']].plot(kind='box')\n",
    "\n",
    "## No significant outliers in the sample\n",
    "\n",
    "## Normal distribution:\n",
    "\n",
    "titan['diff']= titan['New Scheme (in thousands)'] - titan['Old Scheme (in thousands)'];\n",
    "\n",
    "print (stats.shapiro(titan['diff']))\n",
    "\n",
    "## saples are normally distributed based on Shapiro's test results\n",
    "\n",
    "\n",
    "## P-test \n",
    "\n",
    "t_statistic, p_value = ttest_1samp(titan['diff'], 0)\n",
    "print(\"T stats is\",t_statistic);\n",
    "print (\"P value is\", p_value);\n",
    "\n"
   ]
  },
  {
   "cell_type": "code",
   "execution_count": null,
   "metadata": {},
   "outputs": [],
   "source": [
    "## Question 3\n",
    "## Inference from P value\n",
    "\n",
    "## As the P value is 0.13 and greater than 0.05 (5% confidence level), we can conclude that the Null hypothesis is true\n",
    "## which means that there is no difference in the mean between the new and old scheme\n",
    "## Therefore, new scheme has not significantly produced or raised any outputs."
   ]
  },
  {
   "cell_type": "code",
   "execution_count": 52,
   "metadata": {},
   "outputs": [
    {
     "name": "stdout",
     "output_type": "stream",
     "text": [
      "T stats is -0.3889785955886094\n",
      "P value is 0.7001334912613286\n",
      "0.06747546199569075\n"
     ]
    }
   ],
   "source": [
    "##  Question 4\n",
    "\n",
    "## Suppose it has been calculated that in order for Titan to break even, \n",
    "## the average output must increase by £5000 in the scheme compared to the old scheme. \n",
    "## If this figure is alternative hypothesis, \n",
    "## what is:\n",
    "## The probability of a type 1 error? (2.5 points)\n",
    "##What is the p- value of the hypothesis test if we test for a difference of $5000? (10 points)\n",
    "##Power of the test\n",
    "\n",
    "## Since the mean is expected to be increased by 5000, and the mean of the old scheme is 68.03 as calculated first, \n",
    "## we increase this to 73.33 and test against the new scheme\n",
    "## Mean diff is 5\n",
    "## Null hypothesis is mean of the new scheme does not increase by 5000 to make Titan break even\n",
    "\n",
    "t_statistic, p_value = ttest_1samp(titan['diff'], 5)\n",
    "print(\"T stats is\",t_statistic);\n",
    "print (\"P value is\", p_value/2);\n",
    "## Dividing P by 2, as we are concerned about the one tail of test wherein the new scheme's mean is greater than 5000 of the old scheme's mean\n"
    "\n",
    "\n",
    "## Since p value is greater than 0.05 (5% confidence level)\n",
    "## probability of a type 1 error is zero\n",
    "\n",
    "\n",
    "## power of the test\n",
    "\n",
    "## No of rows in a sample is 30 and the taken confidence level is 5%\n",
    "\n",
    "a= (np.mean(titan['Old Scheme (in thousands)']) - np.mean(titan['New Scheme (in thousands)'])) / np.sqrt(((30-1)*np.var(titan['Old Scheme (in thousands)'])+(30-1)*np.var(titan['New Scheme (in thousands)'])) / 30+30-2)\n",
    "print(ttest_power(a, nobs=11, alpha=0.05, alternative='two-sided'))\n",
    "\n",
    "\n"
   ]
  },
  {
   "cell_type": "code",
   "execution_count": null,
   "metadata": {},
   "outputs": [],
   "source": []
  },
  {
   "cell_type": "code",
   "execution_count": null,
   "metadata": {},
   "outputs": [],
   "source": []
  },
  {
   "cell_type": "code",
   "execution_count": null,
   "metadata": {},
   "outputs": [],
   "source": []
  }
 ],
 "metadata": {
  "kernelspec": {
   "display_name": "Python 3",
   "language": "python",
   "name": "python3"
  },
  "language_info": {
   "codemirror_mode": {
    "name": "ipython",
    "version": 3
   },
   "file_extension": ".py",
   "mimetype": "text/x-python",
   "name": "python",
   "nbconvert_exporter": "python",
   "pygments_lexer": "ipython3",
   "version": "3.7.3"
  }
 },
 "nbformat": 4,
 "nbformat_minor": 2
}
