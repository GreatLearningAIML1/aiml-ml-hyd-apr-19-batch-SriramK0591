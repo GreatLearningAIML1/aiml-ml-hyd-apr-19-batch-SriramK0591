{
 "cells": [
  {
   "cell_type": "markdown",
   "metadata": {},
   "source": [
    "# External Lab \n",
    "\n",
    "Here each question is of 1 mark."
   ]
  },
  {
   "cell_type": "markdown",
   "metadata": {},
   "source": [
    "# Multiple Linear Regression\n",
    "\n",
    "## Problem Statement\n",
    "\n",
    "Use Multiple Linear Regression to **predict the consumption of petrol** given relevant variables are the petrol tax, the per capita, income, the number of miles of paved highway, and the proportion of the population with driver's licenses.\n",
    "\n",
    "## Dataset\n",
    "\n",
    "There are 48 rows of data.  The data include:\n",
    "\n",
    "      I,  the index;\n",
    "      A1, the petrol tax;\n",
    "      A2, the per capita income;\n",
    "      A3, the number of miles of paved highway;\n",
    "      A4, the proportion of drivers;\n",
    "      B,  the consumption of petrol.\n",
    "\n",
    "### Reference \n",
    "\n",
    "    Helmut Spaeth,\n",
    "    Mathematical Algorithms for Linear Regression,\n",
    "    Academic Press, 1991,\n",
    "    ISBN 0-12-656460-4.\n",
    "\n",
    "    S Weisberg,\n",
    "    Applied Linear Regression,\n",
    "    New York, 1980, pages 32-33.\n",
    "\n",
    "## Question 1 - Exploratory Data Analysis\n",
    "\n",
    "*Read the dataset given in file named **'petrol.csv'**. Check the statistical details of the dataset.*\n",
    "\n",
    "**Hint:** You can use **df.describe()**"
   ]
  },
  {
   "cell_type": "code",
   "execution_count": 75,
   "metadata": {},
   "outputs": [
    {
     "name": "stdout",
     "output_type": "stream",
     "text": [
      "      tax   income   highway     dl   consumption\n",
      "0    9.00     3571      1976  0.525           541\n",
      "1    9.00     4092      1250  0.572           524\n",
      "2    9.00     3865      1586  0.580           561\n",
      "3    7.50     4870      2351  0.529           414\n",
      "4    8.00     4399       431  0.544           410\n",
      "5   10.00     5342      1333  0.571           457\n",
      "6    8.00     5319     11868  0.451           344\n",
      "7    8.00     5126      2138  0.553           467\n",
      "8    8.00     4447      8577  0.529           464\n",
      "9    7.00     4512      8507  0.552           498\n",
      "10   8.00     4391      5939  0.530           580\n",
      "11   7.50     5126     14186  0.525           471\n",
      "12   7.00     4817      6930  0.574           525\n",
      "13   7.00     4207      6580  0.545           508\n",
      "14   7.00     4332      8159  0.608           566\n",
      "15   7.00     4318     10340  0.586           635\n",
      "16   7.00     4206      8508  0.572           603\n",
      "17   7.00     3718      4725  0.540           714\n",
      "18   7.00     4716      5915  0.724           865\n",
      "19   8.50     4341      6010  0.677           640\n",
      "20   7.00     4593      7834  0.663           649\n",
      "21   8.00     4983       602  0.602           540\n",
      "22   9.00     4897      2449  0.511           464\n",
      "23   9.00     4258      4686  0.517           547\n",
      "24   8.50     4574      2619  0.551           460\n",
      "25   9.00     3721      4746  0.544           566\n",
      "26   8.00     3448      5399  0.548           577\n",
      "27   7.50     3846      9061  0.579           631\n",
      "28   8.00     4188      5975  0.563           574\n",
      "29   9.00     3601      4650  0.493           534\n",
      "30   7.00     3640      6905  0.518           571\n",
      "31   7.00     3333      6594  0.513           554\n",
      "32   8.00     3063      6524  0.578           577\n",
      "33   7.50     3357      4121  0.547           628\n",
      "34   8.00     3528      3495  0.487           487\n",
      "35   6.58     3802      7834  0.629           644\n",
      "36   5.00     4045     17782  0.566           640\n",
      "37   7.00     3897      6385  0.586           704\n",
      "38   8.50     3635      3274  0.663           648\n",
      "39   7.00     4345      3905  0.672           968\n",
      "40   7.00     4449      4639  0.626           587\n",
      "41   7.00     3656      3985  0.563           699\n",
      "42   7.00     4300      3635  0.603           632\n",
      "43   7.00     3745      2611  0.508           591\n",
      "44   6.00     5215      2302  0.672           782\n",
      "45   9.00     4476      3942  0.571           510\n",
      "46   7.00     4296      4083  0.623           610\n",
      "47   7.00     5002      9794  0.593           524\n"
     ]
    }
   ],
   "source": [
    "## Importing the libraries for the analysis\n",
    "\n",
    "import numpy as np\n",
    "import pandas as pd\n",
    "import matplotlib.pyplot as plt \n",
    "from sklearn.linear_model import LinearRegression\n",
    "\n",
    "## Read the dataset from the source file \"petrol.csv\"\n",
    "\n",
    "pet= pd.read_csv(r'C:\\Users\\sriram.kannan\\Desktop\\PGP-AIML\\Residency2\\Residency2_Lab\\petrol.csv', sep=',')\n",
    "print(pet);"
   ]
  },
  {
   "cell_type": "code",
   "execution_count": 76,
   "metadata": {},
   "outputs": [
    {
     "name": "stdout",
     "output_type": "stream",
     "text": [
      "              count         mean          std       min         25%  \\\n",
      "tax            48.0     7.668333     0.950770     5.000     7.00000   \n",
      " income        48.0  4241.833333   573.623768  3063.000  3739.00000   \n",
      " highway       48.0  5565.416667  3491.507166   431.000  3110.25000   \n",
      " dl            48.0     0.570333     0.055470     0.451     0.52975   \n",
      " consumption   48.0   576.770833   111.885816   344.000   509.50000   \n",
      "\n",
      "                    50%         75%        max  \n",
      "tax              7.5000     8.12500     10.000  \n",
      " income       4298.0000  4578.75000   5342.000  \n",
      " highway      4735.5000  7156.00000  17782.000  \n",
      " dl              0.5645     0.59525      0.724  \n",
      " consumption   568.5000   632.75000    968.000  \n"
     ]
    }
   ],
   "source": [
    "## Statistical degtails of the given dataset\n",
    "\n",
    "stat_details = pet.describe().transpose();\n",
    "print (stat_details);"
   ]
  },
  {
   "cell_type": "markdown",
   "metadata": {},
   "source": [
    "# Question 2 - Cap outliers \n",
    "\n",
    "Find the outliers and cap them. (Use (Q1 - 1.5 * IQR) as the minimum cap and (Q3 + 1.5 * IQR) as the max cap. The decision criteria is you should consider the datapoints which only falls within this range. The data points which fall outside this range are outliers and the entire row needs to be removed"
   ]
  },
  {
   "cell_type": "code",
   "execution_count": 89,
   "metadata": {},
   "outputs": [
    {
     "name": "stdout",
     "output_type": "stream",
     "text": [
      "     tax   income   highway     dl   consumption\n",
      "0   9.00     3571      1976  0.525           541\n",
      "1   9.00     4092      1250  0.572           524\n",
      "2   9.00     3865      1586  0.580           561\n",
      "3   7.50     4870      2351  0.529           414\n",
      "4   8.00     4399       431  0.544           410\n",
      "6   8.00     5319     11868  0.451           344\n",
      "7   8.00     5126      2138  0.553           467\n",
      "8   8.00     4447      8577  0.529           464\n",
      "9   7.00     4512      8507  0.552           498\n",
      "10  8.00     4391      5939  0.530           580\n",
      "12  7.00     4817      6930  0.574           525\n",
      "13  7.00     4207      6580  0.545           508\n",
      "14  7.00     4332      8159  0.608           566\n",
      "15  7.00     4318     10340  0.586           635\n",
      "16  7.00     4206      8508  0.572           603\n",
      "17  7.00     3718      4725  0.540           714\n",
      "19  8.50     4341      6010  0.677           640\n",
      "20  7.00     4593      7834  0.663           649\n",
      "21  8.00     4983       602  0.602           540\n",
      "22  9.00     4897      2449  0.511           464\n",
      "23  9.00     4258      4686  0.517           547\n",
      "24  8.50     4574      2619  0.551           460\n",
      "25  9.00     3721      4746  0.544           566\n",
      "26  8.00     3448      5399  0.548           577\n",
      "27  7.50     3846      9061  0.579           631\n",
      "28  8.00     4188      5975  0.563           574\n",
      "29  9.00     3601      4650  0.493           534\n",
      "30  7.00     3640      6905  0.518           571\n",
      "31  7.00     3333      6594  0.513           554\n",
      "32  8.00     3063      6524  0.578           577\n",
      "33  7.50     3357      4121  0.547           628\n",
      "34  8.00     3528      3495  0.487           487\n",
      "35  6.58     3802      7834  0.629           644\n",
      "37  7.00     3897      6385  0.586           704\n",
      "38  8.50     3635      3274  0.663           648\n",
      "40  7.00     4449      4639  0.626           587\n",
      "41  7.00     3656      3985  0.563           699\n",
      "42  7.00     4300      3635  0.603           632\n",
      "43  7.00     3745      2611  0.508           591\n",
      "44  6.00     5215      2302  0.672           782\n",
      "45  9.00     4476      3942  0.571           510\n",
      "46  7.00     4296      4083  0.623           610\n",
      "47  7.00     5002      9794  0.593           524\n"
     ]
    }
   ],
   "source": [
    "## Identify Outliers and remove them\n",
    " \n",
    "\n",
    "q1= pet.quantile(.25); q3 = pet.quantile(.75); \n",
    "IQR= q3-q1;\n",
    "mincap= q1-(IQR*1.5); maxcap=q3+(1.5*IQR); \n",
    "\n",
    "## To remove outliers\n",
    "\n",
    "pet1 = pet[~((pet < mincap) | (pet> maxcap)).any(axis=1)]\n",
    "\n",
    "## Without outliers\n",
    "print (pet1);\n",
    "\n",
    "\n"
   ]
  },
  {
   "cell_type": "markdown",
   "metadata": {},
   "source": [
    "# Question 3 - Independent variables and collinearity \n",
    "Which attributes seems to have stronger association with the dependent variable consumption?"
   ]
  },
  {
   "cell_type": "code",
   "execution_count": 83,
   "metadata": {},
   "outputs": [
    {
     "data": {
      "text/plain": [
       "<seaborn.axisgrid.PairGrid at 0x1975abf1550>"
      ]
     },
     "execution_count": 83,
     "metadata": {},
     "output_type": "execute_result"
    },
    {
     "data": {
      "image/png": "[encoded data removed]",
      "text/plain": [
       "<Figure size 900x900 with 30 Axes>"
      ]
     },
     "metadata": {
      "needs_background": "light"
     },
     "output_type": "display_data"
    }
   ],
   "source": [
    "## Plotting Correlation pair plot to analyse the correlation of consumption with independent variables\n",
    "\n",
    "import seaborn as sns\n",
    "pet1 = pet.iloc[:,0:6];\n",
    "sns.pairplot(pet1, diag_kind='kde') "
   ]
  },
  {
   "cell_type": "code",
   "execution_count": 166,
   "metadata": {},
   "outputs": [
    {
     "name": "stdout",
     "output_type": "stream",
     "text": [
      "0.6117880063947397\n",
      "0.03430885028863911\n",
      "-0.34732558868059754\n",
      "-0.44611573625825673\n"
     ]
    }
   ],
   "source": [
    "# From the above graph, we notice the following\n",
    "# there's a linear relationship between the proportion of drivers and consumption (positve correlation as the slope of the graph tends to be on the posive side) )\n",
    "# there's a non-linear relationship between Consumption and Highway as well as Consumption and income\n",
    "# While consumption decreases when Tax increases\n",
    "\n",
    "# Individually find out correlation to determine the relationship between dependent and independent variable\n",
    "\n",
    "# Between Consumption and Proportion of drivers\n",
    "c1= pet1[' consumption'].corr(pet1[' dl']); print (c1);\n",
    "\n",
    "# Between Consumption and Highway\n",
    "c2=pet1[' consumption'].corr(pet1[' highway']); print (c2);\n",
    "\n",
    "# Betwen Consumption and Income\n",
    "c3=pet1[' consumption'].corr(pet1[' income']); print (c3);\n",
    "\n",
    "# Betwen Consumption and Tax\n",
    "c4=pet1[' consumption'].corr(pet1['tax']); print (c4);\n",
    "\n",
    "# Also, from the above correlation values, we see that the variable \"proportion of drivers\" is a good predictor of Consumption\n",
    "# Tax has a negative association with Consumption\n",
    "# Other variables do not seem to provide a high correlation with the dependent variable"
   ]
  },
  {
   "cell_type": "markdown",
   "metadata": {},
   "source": [
    "### Observing the above correlation values between all the variables, we can see that there is stronger association between the number of drivers and consumption. And comparatively tax has an association in a negative way. \n",
    "Insights :\n",
    "As tax increases the consumption decreases.\n",
    "As number of drivers is more consumption is more"
   ]
  },
  {
   "cell_type": "markdown",
   "metadata": {},
   "source": [
    "# Question 4 - Transform the dataset \n",
    "Divide the data into feature(X) and target(Y) sets."
   ]
  },
  {
   "cell_type": "code",
   "execution_count": 197,
   "metadata": {},
   "outputs": [],
   "source": [
    "# Divide into X and Y sets\n",
    "# Since \"Consumption\" is a dependent variable, we need to drop it in the X dataframe\n",
    "# Adding \"Proportion of Drivers\" and \"Tax\" to the X frame as other variables do not seem to be a good indicator of Consumption\n",
    "\n",
    "from sklearn.model_selection import train_test_split\n",
    "\n",
    "X= pet1.drop(columns=[' consumption', ' income', ' highway'], axis=1);\n",
    "Y= pet1[' consumption'];\n",
    "\n",
    "\n"
   ]
  },
  {
   "cell_type": "code",
   "execution_count": null,
   "metadata": {},
   "outputs": [],
   "source": []
  },
  {
   "cell_type": "markdown",
   "metadata": {},
   "source": [
    "# Question 5 - Split data into train, test sets \n",
    "Divide the data into training and test sets with 80-20 split using scikit-learn. Print the shapes of training and test feature sets."
   ]
  },
  {
   "cell_type": "code",
   "execution_count": 198,
   "metadata": {},
   "outputs": [
    {
     "name": "stdout",
     "output_type": "stream",
     "text": [
      "(34, 2) (9, 2)\n",
      "(34,) (9,)\n"
     ]
    }
   ],
   "source": [
    "## Reshaping the Y frame for model prediction\n",
    "\n",
    "## Splitting into 80:20 ratio for training and test\n",
    "X_train, X_test, Y_train, Y_test = train_test_split(X, Y, test_size=0.2, random_state=1)\n",
    "\n",
    "## Size of Training & Test sets of X frame\n",
    "print (X_train.shape, X_test.shape);\n",
    "\n",
    "## Size of Training & Test sets of Y frame\n",
    "print (Y_train.shape, Y_test.shape);"
   ]
  },
  {
   "cell_type": "code",
   "execution_count": null,
   "metadata": {},
   "outputs": [],
   "source": []
  },
  {
   "cell_type": "markdown",
   "metadata": {},
   "source": [
    "# Question 6 - Build Model \n",
    "Estimate the coefficients for each input feature. Construct and display a dataframe with coefficients and X.columns as columns"
   ]
  },
  {
   "cell_type": "code",
   "execution_count": 214,
   "metadata": {},
   "outputs": [
    {
     "name": "stdout",
     "output_type": "stream",
     "text": [
      "     Coefficient\n",
      "tax   -30.709243\n",
      " dl   892.886209\n",
      "Y Intercept is 292.55096524614896\n"
     ]
    }
   ],
   "source": [
    "lr = LinearRegression()\n",
    "lr.fit(X_train, Y_train)\n",
    "\n",
    "## Finding the coefficients of each feature\n",
    "\n",
    "  \n",
    "coeff = pd.DataFrame(lr.coef_, X.columns, columns=['Coefficient'])  \n",
    "print (coeff)\n",
    "\n",
    "\n",
    "# Intercept\n",
    "print (\"Y Intercept is\", lr.intercept_);\n",
    "\n",
    "\n",
    "\n"
   ]
  },
  {
   "cell_type": "markdown",
   "metadata": {},
   "source": [
    "# R-Square "
   ]
  },
  {
   "cell_type": "markdown",
   "metadata": {},
   "source": [
    "# Question 7 - Evaluate the model \n",
    "Calculate the accuracy score for the above model."
   ]
  },
  {
   "cell_type": "code",
   "execution_count": 205,
   "metadata": {},
   "outputs": [
    {
     "name": "stdout",
     "output_type": "stream",
     "text": [
      "Accuracy in percent of training set 46.57867429910155\n",
      "Accuracy in percent of test set 28.76056314158515\n",
      "Root Mean Squared Error of test set 69.02352698398606\n",
      "R2 error of test set 0.2876056314158515\n"
     ]
    }
   ],
   "source": [
    "## Predicting Y for the test dataset\n",
    "\n",
    "Y_pred= lr.predict(X_test);\n",
    "\n",
    "## predict Y for the training dataset\n",
    "\n",
    "Y_predt= lr.predict(X_train);\n",
    "\n",
    "## Accuracy Score for the model\n",
    "\n",
    "from sklearn.metrics import accuracy_score;\n",
    "accuracy_Score_training = lr.score(X_train, Y_train);\n",
    "accuracy_Score_test = lr.score(X_test,Y_test);\n",
    "print (\"Accuracy in percent of training set\",accuracy_Score_training*100);\n",
    "print (\"Accuracy in percent of test set\",accuracy_Score_test*100);\n",
    "\n",
    "## Validating with other methods such as R2, Root Mean Squares\n",
    "\n",
    "from sklearn.metrics import mean_squared_error, r2_score\n",
    "from math import sqrt\n",
    "\n",
    "## Mean Squared Error\n",
    "mse = mean_squared_error(Y_test, Y_pred)\n",
    "## Root Mean Squared Error\n",
    "rmse = sqrt(mse);\n",
    "print (\"Root Mean Squared Error of test set\", rmse);\n",
    "## R^2 Score\n",
    "\n",
    "Rscore= r2_score(Y_test, Y_pred);\n",
    "print (\"R2 error of test set\", Rscore);"
   ]
  },
  {
   "cell_type": "markdown",
   "metadata": {},
   "source": [
    "# Question 8: Repeat the same Multi linear regression modelling by adding both Income and Highway features\n",
    "Find R2 \n"
   ]
  },
  {
   "cell_type": "code",
   "execution_count": 208,
   "metadata": {},
   "outputs": [
    {
     "name": "stdout",
     "output_type": "stream",
     "text": [
      "Accuracy in percent of training set 64.07622941321002\n",
      "Accuracy in percent of test set 69.30212207091809\n",
      "Root Mean Squared Error of test set 45.309689468984025\n",
      "R2 error of test set 0.6930212207091808\n"
     ]
    }
   ],
   "source": [
    "# Divide into X and Y sets\n",
    "# Since \"Consumption\" is a dependent variable, we need to drop it in the X dataframe\n",
    "# Adding \"Highway\" and \"Income\" features to the X frame\n",
    "from sklearn.model_selection import train_test_split\n",
    "\n",
    "X1= pet1.drop(columns=[' consumption'], axis=1);\n",
    "Y1= pet1[' consumption'];\n",
    "\n",
    "## Splitting into 80:20 ratio for training and test\n",
    "X1_train, X1_test, Y1_train, Y1_test = train_test_split(X1, Y1, test_size=0.2, random_state=1)\n",
    "\n",
    "## training the model\n",
    "lr1 = LinearRegression()\n",
    "lr1.fit(X1_train, Y1_train)\n",
    "\n",
    "\n",
    "## Predicting Y for the test dataset\n",
    "\n",
    "Y1_pred= lr1.predict(X1_test);\n",
    "\n",
    "## predict Y for the training dataset\n",
    "\n",
    "Y1_predt= lr1.predict(X1_train);\n",
    "\n",
    "## Accuracy Score for the model\n",
    "\n",
    "from sklearn.metrics import accuracy_score;\n",
    "accuracy_Score_train = lr1.score(X1_train, Y1_train);\n",
    "accuracy_Score_tst = lr1.score(X1_test,Y1_test);\n",
    "print (\"Accuracy in percent of training set\",accuracy_Score_train*100);\n",
    "print (\"Accuracy in percent of test set\",accuracy_Score_tst*100);\n",
    "\n",
    "## Validating with other methods such as R2, Root Mean Squares\n",
    "\n",
    "## Mean Squared Error\n",
    "mse1 = mean_squared_error(Y1_test, Y1_pred)\n",
    "## Root Mean Squared Error\n",
    "rmse1 = sqrt(mse1);\n",
    "print (\"Root Mean Squared Error of test set\", rmse1);\n",
    "## R^2 Score\n",
    "\n",
    "Rscore1= r2_score(Y1_test, Y1_pred);\n",
    "print (\"R2 error of test set\", Rscore1);\n"
   ]
  },
  {
   "cell_type": "code",
   "execution_count": null,
   "metadata": {},
   "outputs": [],
   "source": []
  },
  {
   "cell_type": "markdown",
   "metadata": {},
   "source": [
    "# Question 9: Print the coefficients of the multilinear regression model"
   ]
  },
  {
   "cell_type": "code",
   "execution_count": 213,
   "metadata": {},
   "outputs": [
    {
     "name": "stdout",
     "output_type": "stream",
     "text": [
      "          Coefficient\n",
      "tax        -39.411584\n",
      " income     -0.062628\n",
      " highway    -0.003022\n",
      " dl        950.882744\n",
      "Y Intercept is 607.7189089086938\n"
     ]
    }
   ],
   "source": [
    "## Finding the coefficients of each feature\n",
    "\n",
    "  \n",
    "coeff1 = pd.DataFrame(lr1.coef_, X1.columns, columns=['Coefficient'])  \n",
    "print (coeff1)\n",
    "\n",
    "\n",
    "# Intercept\n",
    "print (\"Y Intercept is\", lr1.intercept_);\n"
   ]
  },
  {
   "cell_type": "code",
   "execution_count": null,
   "metadata": {},
   "outputs": [],
   "source": []
  },
  {
   "cell_type": "markdown",
   "metadata": {},
   "source": [
    "# Question 10 \n",
    "In one or two sentences give reasoning on R-Square on the basis of above findings\n",
    "Answer"
   ]
  },
  {
   "cell_type": "markdown",
   "metadata": {},
   "source": [
    "### *R squared value increase if we increase the number of independent variables to our analysis"
   ]
  },
  {
   "cell_type": "code",
   "execution_count": null,
   "metadata": {},
   "outputs": [],
   "source": [
    "# First Model without two features \"Income\" and \"Highway\" - R2 was 0.28\n",
    "# Second model with two additional featues - R2 was 0.69\n",
    "\n",
    "# R2 is the extent to which the independent variables determine the variation in a dependent variable in a linear regression.\n",
    "# Hence, increase in the number of independent variables always increases the R2 value in the model.\n",
    "# However, R2 method does not ignore the independent variables even if they don't contribute significantly to the prediction of the dependent variable\n",
    "# Adjusted R2 method better estimates the score especially for multivariate anaysis."
   ]
  }
 ],
 "metadata": {
  "kernelspec": {
   "display_name": "Python 3",
   "language": "python",
   "name": "python3"
  },
  "language_info": {
   "codemirror_mode": {
    "name": "ipython",
    "version": 3
   },
   "file_extension": ".py",
   "mimetype": "text/x-python",
   "name": "python",
   "nbconvert_exporter": "python",
   "pygments_lexer": "ipython3",
   "version": "3.7.3"
  }
 },
 "nbformat": 4,
 "nbformat_minor": 2
}
