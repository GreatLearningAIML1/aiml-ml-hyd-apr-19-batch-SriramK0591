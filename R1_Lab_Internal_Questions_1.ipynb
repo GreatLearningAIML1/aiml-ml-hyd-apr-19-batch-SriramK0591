{
  "nbformat": 4,
  "nbformat_minor": 0,
  "metadata": {
    "colab": {
      "name": "R1-Lab Internal_Questions -1.ipynb",
      "version": "0.3.2",
      "provenance": [],
      "collapsed_sections": [
        "o2rD_wo4mtJZ",
        "07spuWyCmtKG"
      ],
      "toc_visible": true
    },
    "language_info": {
      "codemirror_mode": {
        "name": "ipython",
        "version": 3
      },
      "file_extension": ".py",
      "mimetype": "text/x-python",
      "name": "python",
      "nbconvert_exporter": "python",
      "pygments_lexer": "ipython3",
      "version": "3.7.1"
    },
    "kernelspec": {
      "display_name": "Python 3",
      "language": "python",
      "name": "python3"
    }
  },
  "cells": [
    {
      "metadata": {
        "id": "6Ic-idLCmtEE",
        "colab_type": "text"
      },
      "cell_type": "markdown",
      "source": [
        "## Lists, Dictionaries and Sets in Python"
      ]
    },
    {
      "metadata": {
        "id": "UMQ4cFwVmtEK",
        "colab_type": "text"
      },
      "cell_type": "markdown",
      "source": [
        "## Part 1\n",
        "\n",
        "### Lists in Python\n",
        "\n",
        "Sequences in Python are data structures that hold objects in an ordered array. Now, we will work on Lists, the most common sequence data types in Python."
      ]
    },
    {
      "metadata": {
        "id": "3uMgVy-hmtEO",
        "colab_type": "code",
        "colab": {
          "base_uri": "https://localhost:8080/",
          "height": 34
        },
        "outputId": "de445961-c30c-4dff-e94b-aeb4362b781a"
      },
      "cell_type": "code",
      "source": [
        "#Example \n",
        "l1 = ['learning', \"Python\", 'is fun?', True]\n",
        "print(l1)"
      ],
      "execution_count": 1,
      "outputs": [
        {
          "output_type": "stream",
          "text": [
            "['learning', 'Python', 'is fun?', True]\n"
          ],
          "name": "stdout"
        }
      ]
    },
    {
      "metadata": {
        "id": "J2YaUdEVmtEw",
        "colab_type": "text"
      },
      "cell_type": "markdown",
      "source": [
        "List can also be created by using list() function. "
      ]
    },
    {
      "metadata": {
        "id": "EJ0MV3ucmtEy",
        "colab_type": "code",
        "colab": {
          "base_uri": "https://localhost:8080/",
          "height": 34
        },
        "outputId": "f6a32cd2-36e5-4db5-b8eb-9bba7e8ca418"
      },
      "cell_type": "code",
      "source": [
        "#Example\n",
        "l2 = list((\"learning\", \"for\", \"life\", True))\n",
        "print(l2)"
      ],
      "execution_count": 2,
      "outputs": [
        {
          "output_type": "stream",
          "text": [
            "['learning', 'for', 'life', True]\n"
          ],
          "name": "stdout"
        }
      ]
    },
    {
      "metadata": {
        "id": "mB_d2pqSmtE8",
        "colab_type": "text"
      },
      "cell_type": "markdown",
      "source": [
        "Adding to an existing list\n",
        "\n",
        "### Question 1\n",
        "\n",
        "Add 10 to list l1 given above.\n",
        "\n",
        "[ **Hint: ** Use **append** ]"
      ]
    },
    {
      "metadata": {
        "id": "gOIg_TWNmtE9",
        "colab_type": "code",
        "colab": {
          "base_uri": "https://localhost:8080/",
          "height": 34
        },
        "outputId": "e272e257-abf8-49ea-e082-e1d6490f7d5b"
      },
      "cell_type": "code",
      "source": [
        "l1.append(10); print(l1);"
      ],
      "execution_count": 10,
      "outputs": [
        {
          "output_type": "stream",
          "text": [
            "['learning', 'Python', 'is fun?', True, 10]\n"
          ],
          "name": "stdout"
        }
      ]
    },
    {
      "metadata": {
        "id": "XXPOx1ixmtFC",
        "colab_type": "text"
      },
      "cell_type": "markdown",
      "source": [
        "Removing from an existing list\n",
        "\n",
        "### Question 2\n",
        "\n",
        "Remove 10 from l1.\n",
        "\n",
        "[ **Hint:** Use **remove**]"
      ]
    },
    {
      "metadata": {
        "id": "sKrdp-akmtFH",
        "colab_type": "code",
        "colab": {
          "base_uri": "https://localhost:8080/",
          "height": 34
        },
        "outputId": "1601e578-2c85-4bb4-8d50-4031daf93101"
      },
      "cell_type": "code",
      "source": [
        "l1.remove(10); print(l1)"
      ],
      "execution_count": 11,
      "outputs": [
        {
          "output_type": "stream",
          "text": [
            "['learning', 'Python', 'is fun?', True]\n"
          ],
          "name": "stdout"
        }
      ]
    },
    {
      "metadata": {
        "id": "Lv7YL_rUmtFV",
        "colab_type": "text"
      },
      "cell_type": "markdown",
      "source": [
        "Joining 2 lists\n",
        "\n",
        "### Question 3\n",
        "\n",
        "[ **Hint: ** Use **+** operator or **extend**]"
      ]
    },
    {
      "metadata": {
        "id": "91ZUYjOhmtFY",
        "colab_type": "code",
        "colab": {}
      },
      "cell_type": "code",
      "source": [
        "l1 = ['learning', \"Python\", 'is fun?', True]\n",
        "l2 = list((\"learning\", \"for\", \"life\", True))"
      ],
      "execution_count": 0,
      "outputs": []
    },
    {
      "metadata": {
        "id": "SnkWuP0mmtFn",
        "colab_type": "code",
        "colab": {
          "base_uri": "https://localhost:8080/",
          "height": 34
        },
        "outputId": "844dc53b-8cbf-453c-e6d4-8789e43cb87c"
      },
      "cell_type": "code",
      "source": [
        "l3=l1+l2;\n",
        "print(l3); ## adding two lists"
      ],
      "execution_count": 14,
      "outputs": [
        {
          "output_type": "stream",
          "text": [
            "['learning', 'Python', 'is fun?', True, 'learning', 'for', 'life', True]\n"
          ],
          "name": "stdout"
        }
      ]
    },
    {
      "metadata": {
        "id": "c2sN3WlymtF_",
        "colab_type": "text"
      },
      "cell_type": "markdown",
      "source": [
        "Number List\n",
        "\n",
        "### Question 4\n",
        "\n",
        "Find Range and Mean of l3.\n",
        "\n",
        "l3 = [2,4,6,8]\n",
        "\n",
        "[ **Hint: ** Use **len(),sum(), min(), max()** functions ]\n",
        " \n",
        "If you want to use standard functions like mean & range, you have to import them from numpy else you can calculate them the traditional way using formulas"
      ]
    },
    {
      "metadata": {
        "id": "jOpffEDDmtGB",
        "colab_type": "code",
        "colab": {
          "base_uri": "https://localhost:8080/",
          "height": 34
        },
        "outputId": "953d0054-bf25-475e-a8c9-f1693dda5929"
      },
      "cell_type": "code",
      "source": [
        "l3 = [2,4,6,8];\n",
        "m1=min(l3); m2= max(l3);\n",
        "r= m2-m1;\n",
        "print(r); ## range"
      ],
      "execution_count": 15,
      "outputs": [
        {
          "output_type": "stream",
          "text": [
            "6\n"
          ],
          "name": "stdout"
        }
      ]
    },
    {
      "metadata": {
        "id": "fBBc8MnrmtGH",
        "colab_type": "code",
        "colab": {
          "base_uri": "https://localhost:8080/",
          "height": 34
        },
        "outputId": "b364ba78-8f26-4176-becb-593af33105ff"
      },
      "cell_type": "code",
      "source": [
        "l3 = [2,4,6,8];\n",
        "length=len(l3);\n",
        "total=sum(l3);\n",
        "Mean=total/length;\n",
        "print(Mean); ##Mean"
      ],
      "execution_count": 16,
      "outputs": [
        {
          "output_type": "stream",
          "text": [
            "5.0\n"
          ],
          "name": "stdout"
        }
      ]
    },
    {
      "metadata": {
        "id": "QgNW9gHfmtGM",
        "colab_type": "text"
      },
      "cell_type": "markdown",
      "source": [
        "Count the occurances of an element in a given list.\n",
        "\n",
        "### Question 5\n",
        "Append the given sequence of numbers to l3 (given above) 0,1,3,3,5,5,7,9. Count the occurences of 5 in l3.\n",
        "\n",
        "[ **Hint: ** Use ** + operator to add multiple elements in the array and count() function to print the occurences**]"
      ]
    },
    {
      "metadata": {
        "id": "l_0JMh_gmtGO",
        "colab_type": "code",
        "colab": {
          "base_uri": "https://localhost:8080/",
          "height": 51
        },
        "outputId": "ed4ea37a-6d17-4473-ce04-1ed8c7d49ad7"
      },
      "cell_type": "code",
      "source": [
        "l3 =[2,4,6,8];\n",
        "l4= [0,1,3,3,5,5,7,9];\n",
        "l5= l3+l4;\n",
        "l3=l5;\n",
        "print(l3); ## adding elements to the array\n",
        "\n",
        "l6= l3.count(5);\n",
        "print (l6); ## count of 5"
      ],
      "execution_count": 18,
      "outputs": [
        {
          "output_type": "stream",
          "text": [
            "[2, 4, 6, 8, 0, 1, 3, 3, 5, 5, 7, 9]\n",
            "2\n"
          ],
          "name": "stdout"
        }
      ]
    },
    {
      "metadata": {
        "id": "6gaQzi5MmtGS",
        "colab_type": "text"
      },
      "cell_type": "markdown",
      "source": [
        "Sorting and Reversing a list\n",
        "\n",
        "### Question 6\n",
        "sort and print l3 in ascending and descending order sequentially (given above)\n",
        "\n",
        "**(Hint: Use .sort() function)**"
      ]
    },
    {
      "metadata": {
        "id": "ANY17GLSmtGT",
        "colab_type": "code",
        "colab": {
          "base_uri": "https://localhost:8080/",
          "height": 50
        },
        "outputId": "65d53b4e-380f-4797-c48f-bd00b295e623"
      },
      "cell_type": "code",
      "source": [
        "l3.sort(); print(l3) ; ## ascending"
      ],
      "execution_count": 21,
      "outputs": [
        {
          "output_type": "stream",
          "text": [
            "[0, 1, 2, 3, 3, 4, 5, 5, 6, 7, 8, 9]\n",
            "[0, 1, 2, 3, 3, 4, 5, 5, 6, 7, 8, 9]\n"
          ],
          "name": "stdout"
        }
      ]
    },
    {
      "metadata": {
        "id": "QQkGTa9jmtGW",
        "colab_type": "code",
        "colab": {
          "base_uri": "https://localhost:8080/",
          "height": 34
        },
        "outputId": "9678badf-f78d-4061-f1a8-ac1214777099"
      },
      "cell_type": "code",
      "source": [
        "l3.sort(reverse=True); print(l3); ##descending"
      ],
      "execution_count": 23,
      "outputs": [
        {
          "output_type": "stream",
          "text": [
            "[9, 8, 7, 6, 5, 5, 4, 3, 3, 2, 1, 0]\n"
          ],
          "name": "stdout"
        }
      ]
    },
    {
      "metadata": {
        "id": "r_x9vgWVmtGa",
        "colab_type": "text"
      },
      "cell_type": "markdown",
      "source": [
        "### Functions"
      ]
    },
    {
      "metadata": {
        "id": "CBx0IGAUmtGb",
        "colab_type": "text"
      },
      "cell_type": "markdown",
      "source": [
        "**Example:**\n",
        "\n",
        "**def** function_name(args)**:**\n",
        "    \n",
        "    function code goes here"
      ]
    },
    {
      "metadata": {
        "id": "iLg1zQcimtGc",
        "colab_type": "text"
      },
      "cell_type": "markdown",
      "source": [
        "### Question 7\n",
        "\n",
        "Define a function with name **sum_3** which can take 3 numbers as input, and returns sum of them."
      ]
    },
    {
      "metadata": {
        "id": "HmkxD-JJmtGf",
        "colab_type": "code",
        "colab": {}
      },
      "cell_type": "code",
      "source": [
        "def sum_3(x,y,z):\n",
        " return x+y+z;\n",
        "\n",
        "\n"
      ],
      "execution_count": 0,
      "outputs": []
    },
    {
      "metadata": {
        "id": "TYgPbYI7mtGk",
        "colab_type": "text"
      },
      "cell_type": "markdown",
      "source": [
        "### Lambda Functions"
      ]
    },
    {
      "metadata": {
        "id": "IS963Sn-mtGl",
        "colab_type": "text"
      },
      "cell_type": "markdown",
      "source": [
        "Anonymous functions or no name functions, which can be considered when you use a function only once.\n",
        "\n",
        "**Example:**\n",
        "\n",
        "f = lambda x, y : x + y\n",
        "\n",
        "f(1,1)\n",
        "\n",
        "2\n"
      ]
    },
    {
      "metadata": {
        "id": "EFGzdNlEmtGm",
        "colab_type": "text"
      },
      "cell_type": "markdown",
      "source": [
        "### Question 8\n",
        "\n",
        "Write the same above **sum_3** function using lambda."
      ]
    },
    {
      "metadata": {
        "id": "dElgEulRmtGn",
        "colab_type": "code",
        "colab": {
          "base_uri": "https://localhost:8080/",
          "height": 34
        },
        "outputId": "6e320bdc-fd51-4248-bfed-1ba5357fa5fc"
      },
      "cell_type": "code",
      "source": [
        "sum_3 = lambda x,y,z: x+y+z\n",
        "a= sum_3(1,2,3); ## test\n",
        "print (a);"
      ],
      "execution_count": 29,
      "outputs": [
        {
          "output_type": "stream",
          "text": [
            "6\n"
          ],
          "name": "stdout"
        }
      ]
    },
    {
      "metadata": {
        "id": "r5LyXk3ZmtGr",
        "colab_type": "code",
        "colab": {}
      },
      "cell_type": "code",
      "source": [
        ""
      ],
      "execution_count": 0,
      "outputs": []
    },
    {
      "metadata": {
        "id": "DAXZNNALmtGu",
        "colab_type": "text"
      },
      "cell_type": "markdown",
      "source": [
        "# Numpy"
      ]
    },
    {
      "metadata": {
        "id": "dHge_00mmtGw",
        "colab_type": "text"
      },
      "cell_type": "markdown",
      "source": [
        "We have seen python basic data structures in our last section. They are great but lack specialized features for data analysis. Like, adding roows, columns, operating on 2d matrices aren't readily available. So, we will use *numpy* for such functions.\n",
        "\n"
      ]
    },
    {
      "metadata": {
        "id": "sJoaE-komtGz",
        "colab_type": "code",
        "colab": {}
      },
      "cell_type": "code",
      "source": [
        "import numpy as np"
      ],
      "execution_count": 0,
      "outputs": []
    },
    {
      "metadata": {
        "id": "wGVfbJEwmtG6",
        "colab_type": "text"
      },
      "cell_type": "markdown",
      "source": [
        "Numpy operates on *nd* arrays. These are similar to lists but contains homogenous elements but easier to store 2-d data."
      ]
    },
    {
      "metadata": {
        "id": "l6WKnUYZmtG7",
        "colab_type": "code",
        "colab": {
          "base_uri": "https://localhost:8080/",
          "height": 67
        },
        "outputId": "0b11bc64-3f77-4550-f413-7edd2013b314"
      },
      "cell_type": "code",
      "source": [
        "l1 = [1,2,3,4]\n",
        "nd1 = np.array(l1)\n",
        "print(nd1)\n",
        "\n",
        "l2 = [5,6,7,8]\n",
        "nd2 = np.array([l1,l2])\n",
        "print(nd2)"
      ],
      "execution_count": 32,
      "outputs": [
        {
          "output_type": "stream",
          "text": [
            "[1 2 3 4]\n",
            "[[1 2 3 4]\n",
            " [5 6 7 8]]\n"
          ],
          "name": "stdout"
        }
      ]
    },
    {
      "metadata": {
        "id": "tSuCZI2emtHA",
        "colab_type": "text"
      },
      "cell_type": "markdown",
      "source": [
        "Sum functions on np.array()"
      ]
    },
    {
      "metadata": {
        "id": "p7aL_kPjmtHB",
        "colab_type": "code",
        "colab": {
          "base_uri": "https://localhost:8080/",
          "height": 67
        },
        "outputId": "49e7c08a-e6da-4182-cdaa-89a8bd13f00d"
      },
      "cell_type": "code",
      "source": [
        "print(nd2.shape)\n",
        "\n",
        "print(nd2.size)\n",
        "\n",
        "print(nd2.dtype)"
      ],
      "execution_count": 33,
      "outputs": [
        {
          "output_type": "stream",
          "text": [
            "(2, 4)\n",
            "8\n",
            "int64\n"
          ],
          "name": "stdout"
        }
      ]
    },
    {
      "metadata": {
        "id": "onkKskk8mtHG",
        "colab_type": "text"
      },
      "cell_type": "markdown",
      "source": [
        "### Question 1\n",
        "\n",
        "Create an identity 2d-array or matrix (with ones across the diagonal).\n",
        "\n",
        "[ **Hint: ** You can also use **np.identity()** function ]"
      ]
    },
    {
      "metadata": {
        "id": "sBK_U-uJmtHI",
        "colab_type": "code",
        "colab": {
          "base_uri": "https://localhost:8080/",
          "height": 50
        },
        "outputId": "479d84a2-ff58-4cc2-e193-4a3a74781444"
      },
      "cell_type": "code",
      "source": [
        "array=np.identity(2); print(array);"
      ],
      "execution_count": 40,
      "outputs": [
        {
          "output_type": "stream",
          "text": [
            "[[1. 0.]\n",
            " [0. 1.]]\n"
          ],
          "name": "stdout"
        }
      ]
    },
    {
      "metadata": {
        "id": "t-f13GQBmtHM",
        "colab_type": "text"
      },
      "cell_type": "markdown",
      "source": [
        "### Question 2\n",
        "\n",
        "Create a 2d-array or matrix of order 3x3 with values = 9,8,7,6,5,4,3,2,1 arranged in the same order.\n",
        "\n",
        "Use: **np.matrix()** function\n",
        "\n"
      ]
    },
    {
      "metadata": {
        "id": "y1T83D8mmtHN",
        "colab_type": "code",
        "colab": {
          "base_uri": "https://localhost:8080/",
          "height": 67
        },
        "outputId": "b0b1a83b-8922-4ec1-aa5a-deacdbd8090e"
      },
      "cell_type": "code",
      "source": [
        "matrix =np.matrix('9 8 7; 6 5 4 ; 3 2 1'); print(matrix);"
      ],
      "execution_count": 46,
      "outputs": [
        {
          "output_type": "stream",
          "text": [
            "[[9 8 7]\n",
            " [6 5 4]\n",
            " [3 2 1]]\n"
          ],
          "name": "stdout"
        }
      ]
    },
    {
      "metadata": {
        "id": "k95b4DwbmtHQ",
        "colab_type": "code",
        "colab": {}
      },
      "cell_type": "code",
      "source": [
        ""
      ],
      "execution_count": 0,
      "outputs": []
    },
    {
      "metadata": {
        "id": "zm1_kChEmtHT",
        "colab_type": "text"
      },
      "cell_type": "markdown",
      "source": [
        "### Question 3\n",
        "\n",
        "Reverse both the rows and columns of the given matrix.\n",
        "\n",
        "Hint: You can use the transpose **.T**)"
      ]
    },
    {
      "metadata": {
        "id": "0pzo4-4JmtHT",
        "colab_type": "code",
        "colab": {
          "base_uri": "https://localhost:8080/",
          "height": 67
        },
        "outputId": "6fa51009-23f4-428e-dd59-6e8da08952e4"
      },
      "cell_type": "code",
      "source": [
        "matrix1=np.transpose(matrix); print(matrix1);"
      ],
      "execution_count": 47,
      "outputs": [
        {
          "output_type": "stream",
          "text": [
            "[[9 6 3]\n",
            " [8 5 2]\n",
            " [7 4 1]]\n"
          ],
          "name": "stdout"
        }
      ]
    },
    {
      "metadata": {
        "id": "7yJoxSWGmtHX",
        "colab_type": "code",
        "colab": {}
      },
      "cell_type": "code",
      "source": [
        ""
      ],
      "execution_count": 0,
      "outputs": []
    },
    {
      "metadata": {
        "id": "4npjaG3nmtHc",
        "colab_type": "text"
      },
      "cell_type": "markdown",
      "source": [
        "### Question 4\n",
        "Add + 1 to all the elements in the given matrix."
      ]
    },
    {
      "metadata": {
        "id": "e1e9J_RGmtHd",
        "colab_type": "code",
        "colab": {
          "base_uri": "https://localhost:8080/",
          "height": 67
        },
        "outputId": "7a8bdd41-c59c-49c3-9c9e-08281097aafd"
      },
      "cell_type": "code",
      "source": [
        "m1= matrix + 1; print(m1);"
      ],
      "execution_count": 48,
      "outputs": [
        {
          "output_type": "stream",
          "text": [
            "[[10  9  8]\n",
            " [ 7  6  5]\n",
            " [ 4  3  2]]\n"
          ],
          "name": "stdout"
        }
      ]
    },
    {
      "metadata": {
        "id": "Ks_MLV9NmtHh",
        "colab_type": "code",
        "colab": {}
      },
      "cell_type": "code",
      "source": [
        ""
      ],
      "execution_count": 0,
      "outputs": []
    },
    {
      "metadata": {
        "id": "wVA12nvUmtHk",
        "colab_type": "text"
      },
      "cell_type": "markdown",
      "source": [
        "Similarly you can do operations like scalar  substraction, division, multiplication (operating on each element in the matrix)"
      ]
    },
    {
      "metadata": {
        "id": "eTt-xnl8mtHm",
        "colab_type": "text"
      },
      "cell_type": "markdown",
      "source": [
        "### Question 5\n",
        "\n",
        "Find the mean of all elements in the given matrix nd6.\n",
        "nd6 = [[  1   4   9 121 144 169]\n",
        " [ 16  25  36 196 225 256]\n",
        " [ 49  64  81 289 324 361]]\n",
        " \n",
        " Use: **.mean()** function\n"
      ]
    },
    {
      "metadata": {
        "id": "oE-CK4bgmtHo",
        "colab_type": "code",
        "colab": {
          "base_uri": "https://localhost:8080/",
          "height": 34
        },
        "outputId": "9b502ea1-463a-4d16-94ea-4e925bdba265"
      },
      "cell_type": "code",
      "source": [
        "nd6= [[1, 4, 9, 121, 144, 169], [16, 25, 36, 196, 225, 256], [49, 64, 81, 289, 324, 361]];\n",
        "nd6=np.mean(nd6);\n",
        "print (nd6);"
      ],
      "execution_count": 52,
      "outputs": [
        {
          "output_type": "stream",
          "text": [
            "131.66666666666666\n"
          ],
          "name": "stdout"
        }
      ]
    },
    {
      "metadata": {
        "id": "b4_i1GSgmtHu",
        "colab_type": "code",
        "colab": {}
      },
      "cell_type": "code",
      "source": [
        ""
      ],
      "execution_count": 0,
      "outputs": []
    },
    {
      "metadata": {
        "id": "CZmmj5_KmtHx",
        "colab_type": "text"
      },
      "cell_type": "markdown",
      "source": [
        "### Question 7\n",
        "\n",
        "Find the dot product of two given matrices.\n",
        "\n",
        "[**Hint:** Use **np.dot()**]"
      ]
    },
    {
      "metadata": {
        "id": "DXNarqu_mtHy",
        "colab_type": "code",
        "colab": {
          "base_uri": "https://localhost:8080/",
          "height": 50
        },
        "outputId": "1510b354-089c-42f1-92b1-32464d946d90"
      },
      "cell_type": "code",
      "source": [
        "x= np.array([[1,1], [1,1]])\n",
        "y=np.array([[3,3], [2,2]])\n",
        "z=np.dot(x,y); ## dot product of x,y\n",
        "print(z);"
      ],
      "execution_count": 60,
      "outputs": [
        {
          "output_type": "stream",
          "text": [
            "[[5 5]\n",
            " [5 5]]\n"
          ],
          "name": "stdout"
        }
      ]
    },
    {
      "metadata": {
        "id": "55Bf0jDgmtH6",
        "colab_type": "code",
        "colab": {}
      },
      "cell_type": "code",
      "source": [
        ""
      ],
      "execution_count": 0,
      "outputs": []
    },
    {
      "metadata": {
        "id": "iL-0CkComtIE",
        "colab_type": "code",
        "colab": {}
      },
      "cell_type": "code",
      "source": [
        ""
      ],
      "execution_count": 0,
      "outputs": []
    },
    {
      "metadata": {
        "id": "AjhMnQKlmtIJ",
        "colab_type": "text"
      },
      "cell_type": "markdown",
      "source": [
        "# Pandas"
      ]
    },
    {
      "metadata": {
        "id": "zBbg4UZGmtIK",
        "colab_type": "text"
      },
      "cell_type": "markdown",
      "source": [
        "We have seen Numpy in the last section. It is good at performing math operation on 2d-arrays of numbers. But the major drawback is, it cannot deal with heterogenous values. So, Pandas dataframes are helpful in that aspect for storing different data types and referring the values like a dict in python instead of just referring each item with index.\n",
        "\n",
        "[Link to Official Documentation](http://pandas.pydata.org/pandas-docs/version/0.23/dsintro.html)"
      ]
    },
    {
      "metadata": {
        "id": "LqlUi4n8mtIM",
        "colab_type": "text"
      },
      "cell_type": "markdown",
      "source": [
        "## Series"
      ]
    },
    {
      "metadata": {
        "id": "YhoDpEK-mtIN",
        "colab_type": "text"
      },
      "cell_type": "markdown",
      "source": [
        "Pandas series are almost same as nd arrays in numpy, with a additional inferencing ability with custom labels like *keys* in a *dictionary* in python."
      ]
    },
    {
      "metadata": {
        "id": "0dzdNW4amtIP",
        "colab_type": "code",
        "colab": {}
      },
      "cell_type": "code",
      "source": [
        "import numpy as np\n",
        "import pandas as pd"
      ],
      "execution_count": 0,
      "outputs": []
    },
    {
      "metadata": {
        "id": "mXZG4iw5mtIS",
        "colab_type": "code",
        "colab": {
          "base_uri": "https://localhost:8080/",
          "height": 84
        },
        "outputId": "6660c9c8-bae9-4cc1-d357-29c6886319ee"
      },
      "cell_type": "code",
      "source": [
        "#Example\n",
        "\n",
        "series1 = pd.Series(data = [1,2,3], index = ['key1', 'key2', 'key3'])\n",
        "series1"
      ],
      "execution_count": 65,
      "outputs": [
        {
          "output_type": "execute_result",
          "data": {
            "text/plain": [
              "key1    1\n",
              "key2    2\n",
              "key3    3\n",
              "dtype: int64"
            ]
          },
          "metadata": {
            "tags": []
          },
          "execution_count": 65
        }
      ]
    },
    {
      "metadata": {
        "id": "zyw8tiXvmtIX",
        "colab_type": "text"
      },
      "cell_type": "markdown",
      "source": [
        "### Question 1\n",
        "\n",
        "Convert a given dict to pd series.\n",
        "\n",
        "[**Hint:** Use **.Series**]"
      ]
    },
    {
      "metadata": {
        "id": "_7lJix4EmtIY",
        "colab_type": "code",
        "colab": {}
      },
      "cell_type": "code",
      "source": [
        "d1 = {'a': 1, 'b': 2, 'c': 3}"
      ],
      "execution_count": 0,
      "outputs": []
    },
    {
      "metadata": {
        "id": "5ZUbLSwdmtIb",
        "colab_type": "code",
        "colab": {
          "base_uri": "https://localhost:8080/",
          "height": 84
        },
        "outputId": "fd845474-ffcc-400a-effa-0c99e39ac783"
      },
      "cell_type": "code",
      "source": [
        "p1=pd.Series(d1);\n",
        "print(p1); ## dict to Series"
      ],
      "execution_count": 59,
      "outputs": [
        {
          "output_type": "stream",
          "text": [
            "a    1\n",
            "b    2\n",
            "c    3\n",
            "dtype: int64\n"
          ],
          "name": "stdout"
        }
      ]
    },
    {
      "metadata": {
        "id": "Z77dae_imtId",
        "colab_type": "text"
      },
      "cell_type": "markdown",
      "source": [
        "You can directly use numpy functions on series.\n",
        "### Question 2\n",
        "\n",
        "Find the dot product of both the series create above\n",
        "\n",
        "\n",
        "[ **Hint: ** Use **np.dot()** ]"
      ]
    },
    {
      "metadata": {
        "id": "N_7Z_MoJmtIe",
        "colab_type": "code",
        "colab": {
          "base_uri": "https://localhost:8080/",
          "height": 34
        },
        "outputId": "32ab1a97-fee4-4e16-f016-b06afece1878"
      },
      "cell_type": "code",
      "source": [
        "p2=np.dot(series1,p1); print (p2);"
      ],
      "execution_count": 66,
      "outputs": [
        {
          "output_type": "stream",
          "text": [
            "14\n"
          ],
          "name": "stdout"
        }
      ]
    },
    {
      "metadata": {
        "id": "S36RPRyVmtIj",
        "colab_type": "text"
      },
      "cell_type": "markdown",
      "source": [
        "## Dataframes"
      ]
    },
    {
      "metadata": {
        "id": "DHUjTOvUmtIk",
        "colab_type": "text"
      },
      "cell_type": "markdown",
      "source": [
        "A dataframe is a table with labeled columns which can hold different types of data in each column. "
      ]
    },
    {
      "metadata": {
        "id": "G2GabTPBmtIm",
        "colab_type": "code",
        "colab": {
          "base_uri": "https://localhost:8080/",
          "height": 136
        },
        "outputId": "7912e73a-33ae-4b1c-c876-6691a4b7a5c4"
      },
      "cell_type": "code",
      "source": [
        "# Example\n",
        "d1 = {'a': [1,2,3], 'b': [3,4,5], 'c':[6,7,8] }\n",
        "df1 = pd.DataFrame(d1)\n",
        "df1"
      ],
      "execution_count": 67,
      "outputs": [
        {
          "output_type": "execute_result",
          "data": {
            "text/html": [
              "<div>\n",
              "<style scoped>\n",
              "    .dataframe tbody tr th:only-of-type {\n",
              "        vertical-align: middle;\n",
              "    }\n",
              "\n",
              "    .dataframe tbody tr th {\n",
              "        vertical-align: top;\n",
              "    }\n",
              "\n",
              "    .dataframe thead th {\n",
              "        text-align: right;\n",
              "    }\n",
              "</style>\n",
              "<table border=\"1\" class=\"dataframe\">\n",
              "  <thead>\n",
              "    <tr style=\"text-align: right;\">\n",
              "      <th></th>\n",
              "      <th>a</th>\n",
              "      <th>b</th>\n",
              "      <th>c</th>\n",
              "    </tr>\n",
              "  </thead>\n",
              "  <tbody>\n",
              "    <tr>\n",
              "      <th>0</th>\n",
              "      <td>1</td>\n",
              "      <td>3</td>\n",
              "      <td>6</td>\n",
              "    </tr>\n",
              "    <tr>\n",
              "      <th>1</th>\n",
              "      <td>2</td>\n",
              "      <td>4</td>\n",
              "      <td>7</td>\n",
              "    </tr>\n",
              "    <tr>\n",
              "      <th>2</th>\n",
              "      <td>3</td>\n",
              "      <td>5</td>\n",
              "      <td>8</td>\n",
              "    </tr>\n",
              "  </tbody>\n",
              "</table>\n",
              "</div>"
            ],
            "text/plain": [
              "   a  b  c\n",
              "0  1  3  6\n",
              "1  2  4  7\n",
              "2  3  5  8"
            ]
          },
          "metadata": {
            "tags": []
          },
          "execution_count": 67
        }
      ]
    },
    {
      "metadata": {
        "id": "d70-QF9FmtIr",
        "colab_type": "text"
      },
      "cell_type": "markdown",
      "source": [
        "### Question 3\n",
        "\n",
        "Select second row in the above dataframe df1.\n",
        "\n"
      ]
    },
    {
      "metadata": {
        "id": "4JMbRJLimtIr",
        "colab_type": "code",
        "colab": {
          "base_uri": "https://localhost:8080/",
          "height": 50
        },
        "outputId": "f5c6ac12-9e4d-49a3-c808-b68b367769a1"
      },
      "cell_type": "code",
      "source": [
        "print (df1.iloc[[1]]);"
      ],
      "execution_count": 71,
      "outputs": [
        {
          "output_type": "stream",
          "text": [
            "   a  b  c\n",
            "1  2  4  7\n"
          ],
          "name": "stdout"
        }
      ]
    },
    {
      "metadata": {
        "id": "anRopmGemtIx",
        "colab_type": "text"
      },
      "cell_type": "markdown",
      "source": [
        "### Question 4\n",
        "\n",
        "Select column c in second row of df1.\n",
        "\n",
        "[ **Hint: ** For using labels use **df.loc[row, column]**. For using numeric indexed use **df.iloc[]**. For using mixture of numeric indexes and labels use **df.ix[row, column]** ]\n",
        "\n"
      ]
    },
    {
      "metadata": {
        "id": "E4MWzwX4mtIy",
        "colab_type": "code",
        "colab": {
          "base_uri": "https://localhost:8080/",
          "height": 34
        },
        "outputId": "333fbf2b-47a8-4a69-8571-0c4eecdb5f4d"
      },
      "cell_type": "code",
      "source": [
        "print (df1.iloc[2]['c']);"
      ],
      "execution_count": 73,
      "outputs": [
        {
          "output_type": "stream",
          "text": [
            "8\n"
          ],
          "name": "stdout"
        }
      ]
    },
    {
      "metadata": {
        "id": "pW7XrQrBmtI4",
        "colab_type": "text"
      },
      "cell_type": "markdown",
      "source": [
        "## Using Dataframes on a dataset"
      ]
    },
    {
      "metadata": {
        "id": "wjEyTGOmmtI6",
        "colab_type": "text"
      },
      "cell_type": "markdown",
      "source": [
        "##### Using the mtcars dataset.\n",
        "\n",
        "For the below set of questions, we will be using the cars data from [Motor Trend Car Road Tests](http://stat.ethz.ch/R-manual/R-devel/library/datasets/html/mtcars.html)\n",
        "\n",
        "The data was extracted from the 1974 Motor Trend US magazine, and comprises fuel consumption and 10 aspects of automobile design and performance for 32 automobiles (1973–74 models). \n",
        "\n",
        "\n",
        "Details :\n",
        "    \n",
        "A data frame with 32 observations on 11 (numeric) variables.\n",
        "\n",
        "[, 1] \tmpg \tMiles/(US) gallon\n",
        "\n",
        "[, 2] \tcyl \tNumber of cylinders\n",
        "\n",
        "[, 3] \tdisp \tDisplacement (cu.in.)\n",
        "\n",
        "[, 4] \thp \tGross horsepower\n",
        "\n",
        "[, 5] \tdrat \tRear axle ratio\n",
        "\n",
        "[, 6] \twt \tWeight (1000 lbs)\n",
        "\n",
        "[, 7] \tqsec \t1/4 mile time\n",
        "\n",
        "[, 8] \tvs \tEngine (0 = V-shaped, 1 = straight)\n",
        "\n",
        "[, 9] \tam \tTransmission (0 = automatic, 1 = manual)\n",
        "\n",
        "[,10] \tgear \tNumber of forward gears\n",
        "\n",
        "[,11] \tcarb \tNumber of carburetors "
      ]
    },
    {
      "metadata": {
        "id": "WrOlm3XpmtI7",
        "colab_type": "code",
        "colab": {}
      },
      "cell_type": "code",
      "source": [
        "## Reading a dataset from a csv file using pandas.\n",
        "mtcars = pd.read_csv('mtcars.csv')\n",
        "mtcars.index = mtcars['name']\n"
      ],
      "execution_count": 0,
      "outputs": []
    },
    {
      "metadata": {
        "id": "BeslsoWqmtI-",
        "colab_type": "text"
      },
      "cell_type": "markdown",
      "source": [
        "Following questions are based on analysing a particular dataset using dataframes."
      ]
    },
    {
      "metadata": {
        "id": "NE6dqmfgmtI_",
        "colab_type": "text"
      },
      "cell_type": "markdown",
      "source": [
        "### Question 5\n",
        "\n",
        "Check the type and dimensions of given dataset - mtcars.\n",
        "\n",
        "\n",
        "[ **Hint: ** Use **type()** and **df.shape** ]"
      ]
    },
    {
      "metadata": {
        "id": "IHXeMOi7mtJA",
        "colab_type": "code",
        "colab": {
          "base_uri": "https://localhost:8080/",
          "height": 252
        },
        "outputId": "f974c316-1e2e-48f1-ff13-14e03f6fe31e"
      },
      "cell_type": "code",
      "source": [
        "shape=mtcars.dtypes; print(shape) ## dimensions\n",
        "shape=mtcars.shape; print(shape) ##shapes"
      ],
      "execution_count": 82,
      "outputs": [
        {
          "output_type": "stream",
          "text": [
            "name     object\n",
            "mpg     float64\n",
            "cyl       int64\n",
            "disp    float64\n",
            "hp        int64\n",
            "drat    float64\n",
            "wt      float64\n",
            "qsec    float64\n",
            "vs        int64\n",
            "am        int64\n",
            "gear      int64\n",
            "carb      int64\n",
            "dtype: object\n",
            "(32, 12)\n"
          ],
          "name": "stdout"
        }
      ]
    },
    {
      "metadata": {
        "id": "01WDTDwGmtJE",
        "colab_type": "text"
      },
      "cell_type": "markdown",
      "source": [
        "### Question 6\n",
        "\n",
        "Check the first 10 lines and last 10 lines of the given dataset- mtcars.\n",
        "\n",
        "[**Hint:** Use **.head()** and **.tail()**]"
      ]
    },
    {
      "metadata": {
        "id": "xToHx6VImtJG",
        "colab_type": "code",
        "colab": {
          "base_uri": "https://localhost:8080/",
          "height": 857
        },
        "outputId": "3605cd2b-a6cd-4262-9432-fc4372e44cf5"
      },
      "cell_type": "code",
      "source": [
        "h1=mtcars.head(10); print (h1);## first 10\n",
        "l1= mtcars.tail(10); print(l1);##last 10"
      ],
      "execution_count": 85,
      "outputs": [
        {
          "output_type": "stream",
          "text": [
            "                                name   mpg  cyl   disp   hp  drat     wt  \\\n",
            "name                                                                       \n",
            "Mazda RX4                  Mazda RX4  21.0    6  160.0  110  3.90  2.620   \n",
            "Mazda RX4 Wag          Mazda RX4 Wag  21.0    6  160.0  110  3.90  2.875   \n",
            "Datsun 710                Datsun 710  22.8    4  108.0   93  3.85  2.320   \n",
            "Hornet 4 Drive        Hornet 4 Drive  21.4    6  258.0  110  3.08  3.215   \n",
            "Hornet Sportabout  Hornet Sportabout  18.7    8  360.0  175  3.15  3.440   \n",
            "Valiant                      Valiant  18.1    6  225.0  105  2.76  3.460   \n",
            "Duster 360                Duster 360  14.3    8  360.0  245  3.21  3.570   \n",
            "Merc 240D                  Merc 240D  24.4    4  146.7   62  3.69  3.190   \n",
            "Merc 230                    Merc 230  22.8    4  140.8   95  3.92  3.150   \n",
            "Merc 280                    Merc 280  19.2    6  167.6  123  3.92  3.440   \n",
            "\n",
            "                    qsec  vs  am  gear  carb  \n",
            "name                                          \n",
            "Mazda RX4          16.46   0   1     4     4  \n",
            "Mazda RX4 Wag      17.02   0   1     4     4  \n",
            "Datsun 710         18.61   1   1     4     1  \n",
            "Hornet 4 Drive     19.44   1   0     3     1  \n",
            "Hornet Sportabout  17.02   0   0     3     2  \n",
            "Valiant            20.22   1   0     3     1  \n",
            "Duster 360         15.84   0   0     3     4  \n",
            "Merc 240D          20.00   1   0     4     2  \n",
            "Merc 230           22.90   1   0     4     2  \n",
            "Merc 280           18.30   1   0     4     4  \n",
            "                              name   mpg  cyl   disp   hp  drat     wt   qsec  \\\n",
            "name                                                                            \n",
            "AMC Javelin            AMC Javelin  15.2    8  304.0  150  3.15  3.435  17.30   \n",
            "Camaro Z28              Camaro Z28  13.3    8  350.0  245  3.73  3.840  15.41   \n",
            "Pontiac Firebird  Pontiac Firebird  19.2    8  400.0  175  3.08  3.845  17.05   \n",
            "Fiat X1-9                Fiat X1-9  27.3    4   79.0   66  4.08  1.935  18.90   \n",
            "Porsche 914-2        Porsche 914-2  26.0    4  120.3   91  4.43  2.140  16.70   \n",
            "Lotus Europa          Lotus Europa  30.4    4   95.1  113  3.77  1.513  16.90   \n",
            "Ford Pantera L      Ford Pantera L  15.8    8  351.0  264  4.22  3.170  14.50   \n",
            "Ferrari Dino          Ferrari Dino  19.7    6  145.0  175  3.62  2.770  15.50   \n",
            "Maserati Bora        Maserati Bora  15.0    8  301.0  335  3.54  3.570  14.60   \n",
            "Volvo 142E              Volvo 142E  21.4    4  121.0  109  4.11  2.780  18.60   \n",
            "\n",
            "                  vs  am  gear  carb  \n",
            "name                                  \n",
            "AMC Javelin        0   0     3     2  \n",
            "Camaro Z28         0   0     3     4  \n",
            "Pontiac Firebird   0   0     3     2  \n",
            "Fiat X1-9          1   1     4     1  \n",
            "Porsche 914-2      0   1     5     2  \n",
            "Lotus Europa       1   1     5     2  \n",
            "Ford Pantera L     0   1     5     4  \n",
            "Ferrari Dino       0   1     5     6  \n",
            "Maserati Bora      0   1     5     8  \n",
            "Volvo 142E         1   1     4     2  \n"
          ],
          "name": "stdout"
        }
      ]
    },
    {
      "metadata": {
        "id": "6Rb8VlNhmtJJ",
        "colab_type": "text"
      },
      "cell_type": "markdown",
      "source": [
        "### Question 7\n",
        "\n",
        "Print all the column labels in the given dataset - mtcars.\n",
        "\n",
        "[ **Hint: ** Use **df.columns** ]"
      ]
    },
    {
      "metadata": {
        "id": "rBut22-cmtJK",
        "colab_type": "code",
        "colab": {
          "base_uri": "https://localhost:8080/",
          "height": 67
        },
        "outputId": "c264e494-579b-41df-f090-c8ce85365ace"
      },
      "cell_type": "code",
      "source": [
        "labels=mtcars.columns; print(labels); ##column names"
      ],
      "execution_count": 87,
      "outputs": [
        {
          "output_type": "stream",
          "text": [
            "Index(['name', 'mpg', 'cyl', 'disp', 'hp', 'drat', 'wt', 'qsec', 'vs', 'am',\n",
            "       'gear', 'carb'],\n",
            "      dtype='object')\n"
          ],
          "name": "stdout"
        }
      ]
    },
    {
      "metadata": {
        "id": "mk4Pt1q0mtJP",
        "colab_type": "text"
      },
      "cell_type": "markdown",
      "source": [
        "### Question 8"
      ]
    },
    {
      "metadata": {
        "id": "zU2m1YdGmtJS",
        "colab_type": "text"
      },
      "cell_type": "markdown",
      "source": [
        "Select first 6 rows and 3 columns in mtcars dataframe.\n",
        "\n",
        "**Hint: **  \n",
        "mtcars.ix[:,:] gives all rows and columns in the dataset."
      ]
    },
    {
      "metadata": {
        "id": "MnUjS2NdmtJT",
        "colab_type": "code",
        "colab": {
          "base_uri": "https://localhost:8080/",
          "height": 151
        },
        "outputId": "025d7753-3cc1-4516-e396-0647ea7dfe8f"
      },
      "cell_type": "code",
      "source": [
        "data=mtcars.iloc[:6,:3]; print(data); ## first 6 rows and 3 columns"
      ],
      "execution_count": 90,
      "outputs": [
        {
          "output_type": "stream",
          "text": [
            "                                name   mpg  cyl\n",
            "name                                           \n",
            "Mazda RX4                  Mazda RX4  21.0    6\n",
            "Mazda RX4 Wag          Mazda RX4 Wag  21.0    6\n",
            "Datsun 710                Datsun 710  22.8    4\n",
            "Hornet 4 Drive        Hornet 4 Drive  21.4    6\n",
            "Hornet Sportabout  Hornet Sportabout  18.7    8\n",
            "Valiant                      Valiant  18.1    6\n"
          ],
          "name": "stdout"
        }
      ]
    },
    {
      "metadata": {
        "id": "tFRQUqNZmtJW",
        "colab_type": "text"
      },
      "cell_type": "markdown",
      "source": [
        "## Lab Brief - Statistical Learning with Python"
      ]
    },
    {
      "metadata": {
        "id": "o2rD_wo4mtJZ",
        "colab_type": "text"
      },
      "cell_type": "markdown",
      "source": [
        "### Part-1"
      ]
    },
    {
      "metadata": {
        "id": "9KPMwjHymtJb",
        "colab_type": "text"
      },
      "cell_type": "markdown",
      "source": [
        "## Measures of Data"
      ]
    },
    {
      "metadata": {
        "id": "KyIQOVm4mtJc",
        "colab_type": "text"
      },
      "cell_type": "markdown",
      "source": [
        "Descriptive Statistcs are measures that summarize important features of data. Producing these descriptive statistics is a common first step to take after cleaning and preparing a dataset for further analysis. Examples are like calculating Mean or Median. In this lab, we will be looking into some of these functions and explore several new ones."
      ]
    },
    {
      "metadata": {
        "id": "u79MlZlPmtJc",
        "colab_type": "text"
      },
      "cell_type": "markdown",
      "source": [
        "#### Measures of Central Tendency"
      ]
    },
    {
      "metadata": {
        "id": "K9co2B_KmtJd",
        "colab_type": "text"
      },
      "cell_type": "markdown",
      "source": [
        "Whenever you measure things of the same kind, a fairly large number of such measurements will tend to cluster around the middle value. Such a value is called a measure of \"Central Tendency\". The other terms that are used synonymously are \"Measures of Location\", or \"Statistical Averages\". "
      ]
    },
    {
      "metadata": {
        "id": "9eGkkep6mtJe",
        "colab_type": "code",
        "colab": {}
      },
      "cell_type": "code",
      "source": [
        "import numpy as np\n",
        "import pandas as pd\n",
        "import matplotlib.pyplot as plt\n",
        "\n",
        "mtcars = pd.read_csv('mtcars.csv')"
      ],
      "execution_count": 0,
      "outputs": []
    },
    {
      "metadata": {
        "id": "33lzBiUFmtJh",
        "colab_type": "text"
      },
      "cell_type": "markdown",
      "source": [
        "##### Using the mtcars dataset.\n",
        "\n",
        "For the below set of questions, we will be using the cars data from [Motor Trend Car Road Tests](http://stat.ethz.ch/R-manual/R-devel/library/datasets/html/mtcars.html)\n",
        "\n",
        "The data was extracted from the 1974 Motor Trend US magazine, and comprises fuel consumption and 10 aspects of automobile design and performance for 32 automobiles (1973–74 models). \n",
        "\n",
        "\n",
        "Details :\n",
        "    \n",
        "A data frame with 32 observations on 11 (numeric) variables.\n",
        "\n",
        "[, 1] \tmpg \tMiles/(US) gallon\n",
        "\n",
        "[, 2] \tcyl \tNumber of cylinders\n",
        "\n",
        "[, 3] \tdisp \tDisplacement (cu.in.)\n",
        "\n",
        "[, 4] \thp \tGross horsepower\n",
        "\n",
        "[, 5] \tdrat \tRear axle ratio\n",
        "\n",
        "[, 6] \twt \tWeight (1000 lbs)\n",
        "\n",
        "[, 7] \tqsec \t1/4 mile time\n",
        "\n",
        "[, 8] \tvs \tEngine (0 = V-shaped, 1 = straight)\n",
        "\n",
        "[, 9] \tam \tTransmission (0 = automatic, 1 = manual)\n",
        "\n",
        "[,10] \tgear \tNumber of forward gears\n",
        "\n",
        "[,11] \tcarb \tNumber of carburetors "
      ]
    },
    {
      "metadata": {
        "id": "3nOwZYTVmtJi",
        "colab_type": "text"
      },
      "cell_type": "markdown",
      "source": [
        "#### Explore the data - Setting the index"
      ]
    },
    {
      "metadata": {
        "id": "G1Pqun7FmtJj",
        "colab_type": "code",
        "colab": {
          "base_uri": "https://localhost:8080/",
          "height": 309
        },
        "outputId": "2c85fd63-eab0-4108-aabf-ca921d91dda8"
      },
      "cell_type": "code",
      "source": [
        "mtcars.index = mtcars[\"name\"]\n",
        "mtcars.head()\n",
        "# mtcars.mean() #By default this will give the mean of each column"
      ],
      "execution_count": 97,
      "outputs": [
        {
          "output_type": "execute_result",
          "data": {
            "text/html": [
              "<div>\n",
              "<style scoped>\n",
              "    .dataframe tbody tr th:only-of-type {\n",
              "        vertical-align: middle;\n",
              "    }\n",
              "\n",
              "    .dataframe tbody tr th {\n",
              "        vertical-align: top;\n",
              "    }\n",
              "\n",
              "    .dataframe thead th {\n",
              "        text-align: right;\n",
              "    }\n",
              "</style>\n",
              "<table border=\"1\" class=\"dataframe\">\n",
              "  <thead>\n",
              "    <tr style=\"text-align: right;\">\n",
              "      <th></th>\n",
              "      <th>name</th>\n",
              "      <th>mpg</th>\n",
              "      <th>cyl</th>\n",
              "      <th>disp</th>\n",
              "      <th>hp</th>\n",
              "      <th>drat</th>\n",
              "      <th>wt</th>\n",
              "      <th>qsec</th>\n",
              "      <th>vs</th>\n",
              "      <th>am</th>\n",
              "      <th>gear</th>\n",
              "      <th>carb</th>\n",
              "    </tr>\n",
              "    <tr>\n",
              "      <th>name</th>\n",
              "      <th></th>\n",
              "      <th></th>\n",
              "      <th></th>\n",
              "      <th></th>\n",
              "      <th></th>\n",
              "      <th></th>\n",
              "      <th></th>\n",
              "      <th></th>\n",
              "      <th></th>\n",
              "      <th></th>\n",
              "      <th></th>\n",
              "      <th></th>\n",
              "    </tr>\n",
              "  </thead>\n",
              "  <tbody>\n",
              "    <tr>\n",
              "      <th>Mazda RX4</th>\n",
              "      <td>Mazda RX4</td>\n",
              "      <td>21.0</td>\n",
              "      <td>6</td>\n",
              "      <td>160.0</td>\n",
              "      <td>110</td>\n",
              "      <td>3.90</td>\n",
              "      <td>2.620</td>\n",
              "      <td>16.46</td>\n",
              "      <td>0</td>\n",
              "      <td>1</td>\n",
              "      <td>4</td>\n",
              "      <td>4</td>\n",
              "    </tr>\n",
              "    <tr>\n",
              "      <th>Mazda RX4 Wag</th>\n",
              "      <td>Mazda RX4 Wag</td>\n",
              "      <td>21.0</td>\n",
              "      <td>6</td>\n",
              "      <td>160.0</td>\n",
              "      <td>110</td>\n",
              "      <td>3.90</td>\n",
              "      <td>2.875</td>\n",
              "      <td>17.02</td>\n",
              "      <td>0</td>\n",
              "      <td>1</td>\n",
              "      <td>4</td>\n",
              "      <td>4</td>\n",
              "    </tr>\n",
              "    <tr>\n",
              "      <th>Datsun 710</th>\n",
              "      <td>Datsun 710</td>\n",
              "      <td>22.8</td>\n",
              "      <td>4</td>\n",
              "      <td>108.0</td>\n",
              "      <td>93</td>\n",
              "      <td>3.85</td>\n",
              "      <td>2.320</td>\n",
              "      <td>18.61</td>\n",
              "      <td>1</td>\n",
              "      <td>1</td>\n",
              "      <td>4</td>\n",
              "      <td>1</td>\n",
              "    </tr>\n",
              "    <tr>\n",
              "      <th>Hornet 4 Drive</th>\n",
              "      <td>Hornet 4 Drive</td>\n",
              "      <td>21.4</td>\n",
              "      <td>6</td>\n",
              "      <td>258.0</td>\n",
              "      <td>110</td>\n",
              "      <td>3.08</td>\n",
              "      <td>3.215</td>\n",
              "      <td>19.44</td>\n",
              "      <td>1</td>\n",
              "      <td>0</td>\n",
              "      <td>3</td>\n",
              "      <td>1</td>\n",
              "    </tr>\n",
              "    <tr>\n",
              "      <th>Hornet Sportabout</th>\n",
              "      <td>Hornet Sportabout</td>\n",
              "      <td>18.7</td>\n",
              "      <td>8</td>\n",
              "      <td>360.0</td>\n",
              "      <td>175</td>\n",
              "      <td>3.15</td>\n",
              "      <td>3.440</td>\n",
              "      <td>17.02</td>\n",
              "      <td>0</td>\n",
              "      <td>0</td>\n",
              "      <td>3</td>\n",
              "      <td>2</td>\n",
              "    </tr>\n",
              "  </tbody>\n",
              "</table>\n",
              "</div>"
            ],
            "text/plain": [
              "                                name   mpg  cyl   disp   hp  drat     wt  \\\n",
              "name                                                                       \n",
              "Mazda RX4                  Mazda RX4  21.0    6  160.0  110  3.90  2.620   \n",
              "Mazda RX4 Wag          Mazda RX4 Wag  21.0    6  160.0  110  3.90  2.875   \n",
              "Datsun 710                Datsun 710  22.8    4  108.0   93  3.85  2.320   \n",
              "Hornet 4 Drive        Hornet 4 Drive  21.4    6  258.0  110  3.08  3.215   \n",
              "Hornet Sportabout  Hornet Sportabout  18.7    8  360.0  175  3.15  3.440   \n",
              "\n",
              "                    qsec  vs  am  gear  carb  \n",
              "name                                          \n",
              "Mazda RX4          16.46   0   1     4     4  \n",
              "Mazda RX4 Wag      17.02   0   1     4     4  \n",
              "Datsun 710         18.61   1   1     4     1  \n",
              "Hornet 4 Drive     19.44   1   0     3     1  \n",
              "Hornet Sportabout  17.02   0   0     3     2  "
            ]
          },
          "metadata": {
            "tags": []
          },
          "execution_count": 97
        }
      ]
    },
    {
      "metadata": {
        "id": "belUhwMamtJo",
        "colab_type": "text"
      },
      "cell_type": "markdown",
      "source": [
        "### Question 1\n",
        "\n",
        "What is the first car name given in mtcars?\n",
        "\n",
        "** Make use of index which has been set previously **\n",
        "\n",
        "**Hint**: Use .loc function\n"
      ]
    },
    {
      "metadata": {
        "scrolled": true,
        "id": "-x1BCPSnmtJp",
        "colab_type": "code",
        "colab": {
          "base_uri": "https://localhost:8080/",
          "height": 34
        },
        "outputId": "9e5385fa-d913-4550-d78a-0163a7a59d81"
      },
      "cell_type": "code",
      "source": [
        "first_car=mtcars.iloc[0,0]; print(first_car); ##first car"
      ],
      "execution_count": 100,
      "outputs": [
        {
          "output_type": "stream",
          "text": [
            "Mazda RX4\n"
          ],
          "name": "stdout"
        }
      ]
    },
    {
      "metadata": {
        "id": "_0CW_WlRmtJt",
        "colab_type": "text"
      },
      "cell_type": "markdown",
      "source": [
        "### Question 2\n",
        "What is the highest difference between the hp and cyl?\n",
        "\n",
        "**Hint:** You can use **max()** function to find the difference"
      ]
    },
    {
      "metadata": {
        "id": "ir4SYJ1zmtJu",
        "colab_type": "code",
        "colab": {
          "base_uri": "https://localhost:8080/",
          "height": 34
        },
        "outputId": "00449a41-7c79-4abe-afe8-a7ed5d1553f9"
      },
      "cell_type": "code",
      "source": [
        "cy_max=mtcars['cyl'].max() ## max(cyl)\n",
        "min_hp=mtcars['hp'].min() ## min(hp)\n",
        "\n",
        "a= cy_max-min_hp;\n",
        "print(a); ## highest difference"
      ],
      "execution_count": 102,
      "outputs": [
        {
          "output_type": "stream",
          "text": [
            "-44\n"
          ],
          "name": "stdout"
        }
      ]
    },
    {
      "metadata": {
        "id": "l-5eRHdQmtJy",
        "colab_type": "text"
      },
      "cell_type": "markdown",
      "source": [
        "### Question 3\n",
        "What are the cars having highest weight(wt) and lowest weight(wt)?\n",
        "\n",
        "**Hint:** Use idxmax() and idxmin() to locate the row\n",
        "\n",
        "Use **.iloc** function to print the  row\n",
        "\n",
        "**Note:** Both idxmax and idxmin belong to pandas"
      ]
    },
    {
      "metadata": {
        "id": "j55NDo7bmtJy",
        "colab_type": "code",
        "colab": {
          "base_uri": "https://localhost:8080/",
          "height": 50
        },
        "outputId": "ba56352a-f755-4872-8812-963001be5e27"
      },
      "cell_type": "code",
      "source": [
        "highest=mtcars.loc[mtcars['wt'].idxmax()].name; \n",
        "lowest=mtcars.loc[mtcars['wt'].idxmin()].name;\n",
        "\n",
        "print(highest); print(lowest);\n",
        "\n"
      ],
      "execution_count": 108,
      "outputs": [
        {
          "output_type": "stream",
          "text": [
            "Lincoln Continental\n",
            "Lotus Europa\n"
          ],
          "name": "stdout"
        }
      ]
    },
    {
      "metadata": {
        "id": "ZdYN4t3-mtJ0",
        "colab_type": "code",
        "colab": {}
      },
      "cell_type": "code",
      "source": [
        ""
      ],
      "execution_count": 0,
      "outputs": []
    },
    {
      "metadata": {
        "id": "MRG7QeW7mtJ9",
        "colab_type": "text"
      },
      "cell_type": "markdown",
      "source": [
        "### Question 4\n",
        "\n",
        "Find the mean of each row and each column in the given dataset.\n",
        "\n",
        "**Hint:** Use .mean() function. To operate on rows use **axis=0**, on columns use **axis=1**"
      ]
    },
    {
      "metadata": {
        "id": "36P75ipzmtJ-",
        "colab_type": "code",
        "colab": {
          "base_uri": "https://localhost:8080/",
          "height": 790
        },
        "outputId": "abb063df-9b4f-4c39-abd1-bc8b59ad236f"
      },
      "cell_type": "code",
      "source": [
        "avg_eachrow=mtcars.mean(axis=0); print(avg_eachrow); ##each row's mean\n",
        "avg_eachcolumn=mtcars.mean(axis=1);print(avg_eachcolumn); ## each columns' mean"
      ],
      "execution_count": 110,
      "outputs": [
        {
          "output_type": "stream",
          "text": [
            "mpg      20.090625\n",
            "cyl       6.187500\n",
            "disp    230.721875\n",
            "hp      146.687500\n",
            "drat      3.596563\n",
            "wt        3.217250\n",
            "qsec     17.848750\n",
            "vs        0.437500\n",
            "am        0.406250\n",
            "gear      3.687500\n",
            "carb      2.812500\n",
            "dtype: float64\n",
            "name\n",
            "Mazda RX4              29.907273\n",
            "Mazda RX4 Wag          29.981364\n",
            "Datsun 710             23.598182\n",
            "Hornet 4 Drive         38.739545\n",
            "Hornet Sportabout      53.664545\n",
            "Valiant                35.049091\n",
            "Duster 360             59.720000\n",
            "Merc 240D              24.634545\n",
            "Merc 230               27.233636\n",
            "Merc 280               31.860000\n",
            "Merc 280C              31.787273\n",
            "Merc 450SE             46.430909\n",
            "Merc 450SL             46.500000\n",
            "Merc 450SLC            46.350000\n",
            "Cadillac Fleetwood     66.232727\n",
            "Lincoln Continental    66.058545\n",
            "Chrysler Imperial      65.972273\n",
            "Fiat 128               19.440909\n",
            "Honda Civic            17.742273\n",
            "Toyota Corolla         18.814091\n",
            "Toyota Corona          24.888636\n",
            "Dodge Challenger       47.240909\n",
            "AMC Javelin            46.007727\n",
            "Camaro Z28             58.752727\n",
            "Pontiac Firebird       57.379545\n",
            "Fiat X1-9              18.928636\n",
            "Porsche 914-2          24.779091\n",
            "Lotus Europa           24.880273\n",
            "Ford Pantera L         60.971818\n",
            "Ferrari Dino           34.508182\n",
            "Maserati Bora          63.155455\n",
            "Volvo 142E             26.262727\n",
            "dtype: float64\n"
          ],
          "name": "stdout"
        }
      ]
    },
    {
      "metadata": {
        "id": "t-8JGvECmtKA",
        "colab_type": "text"
      },
      "cell_type": "markdown",
      "source": [
        "### Question 5\n",
        "\n",
        "Plot mpg values of mtcards dataframe using matplotlib.\n",
        "\n",
        "**Hint: Use plt.plot function**"
      ]
    },
    {
      "metadata": {
        "id": "oa7xbgyKmtKB",
        "colab_type": "code",
        "colab": {
          "base_uri": "https://localhost:8080/",
          "height": 300
        },
        "outputId": "3a84842a-68c0-4fc7-abd2-1b12808cd021"
      },
      "cell_type": "code",
      "source": [
        "mtcars.plot('mpg'); "
      ],
      "execution_count": 111,
      "outputs": [
        {
          "output_type": "execute_result",
          "data": {
            "text/plain": [
              "<matplotlib.axes._subplots.AxesSubplot at 0x7fa96d174a90>"
            ]
          },
          "metadata": {
            "tags": []
          },
          "execution_count": 111
        },
        {
          "output_type": "display_data",
          "data": {
            "image/png": "[encoded data removed]",
            "text/plain": [
              "<Figure size 432x288 with 1 Axes>"
            ]
          },
          "metadata": {
            "tags": []
          }
        }
      ]
    },
    {
      "metadata": {
        "id": "07spuWyCmtKG",
        "colab_type": "text"
      },
      "cell_type": "markdown",
      "source": [
        "## Part 2"
      ]
    },
    {
      "metadata": {
        "id": "b5x7EuGMmtKJ",
        "colab_type": "text"
      },
      "cell_type": "markdown",
      "source": [
        "## Measures of Dispersion"
      ]
    },
    {
      "metadata": {
        "id": "Shiid2c2mtKK",
        "colab_type": "text"
      },
      "cell_type": "markdown",
      "source": [
        "Measures of Dispersion (Spread) are statistics that describe how data varies. Measure of dispersion gives us the sense of how much the data tends to diverge from the central tendency."
      ]
    },
    {
      "metadata": {
        "id": "4RAr7z1imtKK",
        "colab_type": "text"
      },
      "cell_type": "markdown",
      "source": [
        "### Question 6\n",
        "\n",
        "What the range of `mpg` in the given dataset?\n",
        "\n",
        "**Hint:** Range = max-min"
      ]
    },
    {
      "metadata": {
        "id": "9xfH2sR7mtKL",
        "colab_type": "code",
        "colab": {
          "base_uri": "https://localhost:8080/",
          "height": 34
        },
        "outputId": "764be4df-06cb-493e-849f-f4fbe34d4e8e"
      },
      "cell_type": "code",
      "source": [
        "max=mtcars['mpg'].max();\n",
        "min=mtcars['mpg'].min();\n",
        "range_mpg=max-min;\n",
        "print(range_mpg); ##range of mpg"
      ],
      "execution_count": 113,
      "outputs": [
        {
          "output_type": "stream",
          "text": [
            "23.5\n"
          ],
          "name": "stdout"
        }
      ]
    },
    {
      "metadata": {
        "id": "EEmG52RjmtKN",
        "colab_type": "text"
      },
      "cell_type": "markdown",
      "source": [
        "### Question 7\n",
        "\n",
        "Calculate the 25th quantile (lower quantile)for `mpg` in the given dataset.\n",
        "\n",
        "**Hint:** Use **.quantile()**"
      ]
    },
    {
      "metadata": {
        "id": "qptaBKN9mtKN",
        "colab_type": "code",
        "colab": {
          "base_uri": "https://localhost:8080/",
          "height": 34
        },
        "outputId": "c9e89d6a-4e14-41cc-cf2f-c629f6141748"
      },
      "cell_type": "code",
      "source": [
        "a=mtcars.mpg.quantile(.25);\n",
        "print(a); ## 25th percentile"
      ],
      "execution_count": 114,
      "outputs": [
        {
          "output_type": "stream",
          "text": [
            "15.425\n"
          ],
          "name": "stdout"
        }
      ]
    },
    {
      "metadata": {
        "id": "QO2Vxwl1mtKP",
        "colab_type": "text"
      },
      "cell_type": "markdown",
      "source": [
        "### Question 8\n",
        "\n",
        "Calculate the Inter-Quartile Range(IQR) for `mpg` in the given dataset."
      ]
    },
    {
      "metadata": {
        "id": "wgfy1r7lmtKQ",
        "colab_type": "text"
      },
      "cell_type": "markdown",
      "source": [
        "Interquartile range (IQR) is another common measure of spread. IQR is the distance between the 3rd quartile and the 1st quartile.\n",
        "\n",
        "**Hint:** IQR = Q3 - Q1"
      ]
    },
    {
      "metadata": {
        "id": "LDMOhS5nmtKR",
        "colab_type": "code",
        "colab": {
          "base_uri": "https://localhost:8080/",
          "height": 34
        },
        "outputId": "5bb68302-b264-4a4c-9291-fa0613a144eb"
      },
      "cell_type": "code",
      "source": [
        "a=mtcars.mpg.quantile(.75);## Q3\n",
        "b=mtcars.mpg.quantile(.25); ## Q1\n",
        "IQR=a-b;\n",
        "print(IQR); ## Inter-Quartile Range\n"
      ],
      "execution_count": 115,
      "outputs": [
        {
          "output_type": "stream",
          "text": [
            "7.375\n"
          ],
          "name": "stdout"
        }
      ]
    },
    {
      "metadata": {
        "id": "wHalIDvOmtKV",
        "colab_type": "text"
      },
      "cell_type": "markdown",
      "source": [
        "### Question 9\n",
        "\n",
        "Calculate the Variance, Standard Deviation and Median Absolute Deviation for `mpg`."
      ]
    },
    {
      "metadata": {
        "id": "Wfmno0SUmtKY",
        "colab_type": "text"
      },
      "cell_type": "markdown",
      "source": [
        "Variance and Standard Deviation are two other common measure of dispersion.\n",
        "\n",
        "**Hint:** Use .var() and .std()"
      ]
    },
    {
      "metadata": {
        "id": "OXzRZ3NzmtKZ",
        "colab_type": "text"
      },
      "cell_type": "markdown",
      "source": [
        "**Hint:** Median Absolute Deviation - alternative measure of spread based on the median. It is the median of the absolute value of the deviations from the median. "
      ]
    },
    {
      "metadata": {
        "id": "jbQKspR0mtKb",
        "colab_type": "code",
        "colab": {
          "base_uri": "https://localhost:8080/",
          "height": 67
        },
        "outputId": "2849e042-f45a-4951-fe7c-eec29788191d"
      },
      "cell_type": "code",
      "source": [
        "variance= mtcars['mpg'].var();\n",
        "print(variance); ##variance\n",
        "\n",
        "standard_deviation = mtcars['mpg'].std();\n",
        "print(standard_deviation); ##Standard Deviation\n",
        "\n",
        "Median=mtcars['mpg'].median();\n",
        "value=mtcars['mpg'];\n",
        "absolute=abs(value-Median);\n",
        "Median_abs_deviation=absolute.median(); \n",
        "print(Median_abs_deviation); ## Median Absolute Deviation"
      ],
      "execution_count": 127,
      "outputs": [
        {
          "output_type": "stream",
          "text": [
            "36.32410282258065\n",
            "6.026948052089105\n",
            "3.6500000000000004\n"
          ],
          "name": "stdout"
        }
      ]
    }
  ]
}